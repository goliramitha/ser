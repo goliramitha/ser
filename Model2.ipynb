{
 "cells": [
  {
   "cell_type": "markdown",
   "metadata": {
    "colab_type": "text",
    "id": "view-in-github"
   },
   "source": [
    "<a href=\"https://colab.research.google.com/github/Basel-byte/Speech-Emotion-Recognition/blob/L_trial/Model2.ipynb\" target=\"_parent\"><img src=\"https://colab.research.google.com/assets/colab-badge.svg\" alt=\"Open In Colab\"/></a>"
   ]
  },
  {
   "cell_type": "code",
   "execution_count": 20,
   "metadata": {
    "id": "ZTN8UKJK8RF2"
   },
   "outputs": [],
   "source": [
    "from scipy.io import wavfile\n",
    "from sklearn.preprocessing import LabelBinarizer, StandardScaler\n",
    "from sklearn.model_selection import train_test_split\n",
    "import librosa\n",
    "import librosa.display\n",
    "import numpy as np\n",
    "import pandas as pd\n",
    "import matplotlib.pyplot as plt\n",
    "from tensorflow import keras\n",
    "from keras.models import Sequential, load_model\n",
    "from tensorflow.keras import regularizers\n",
    "from sklearn.metrics import f1_score, confusion_matrix\n",
    "import os"
   ]
  },
  {
   "cell_type": "code",
   "execution_count": 3,
   "metadata": {
    "colab": {
     "base_uri": "https://localhost:8080/"
    },
    "id": "glMs-H3Ytwqp",
    "outputId": "0cc4a53d-44f8-4bb4-e96f-1d4b4c9a1e05"
   },
   "outputs": [
    {
     "name": "stdout",
     "output_type": "stream",
     "text": [
      "Mounted at /content/drive\n"
     ]
    }
   ],
   "source": [
    "from google.colab import drive\n",
    "drive.mount('/content/drive')"
   ]
  },
  {
   "cell_type": "code",
   "execution_count": 4,
   "metadata": {
    "id": "3Y3Mro927-NE"
   },
   "outputs": [],
   "source": [
    "dir_path = \"/content/drive/MyDrive/Crema\"\n",
    "if not os.path.exists(dir_path):\n",
    "  !unzip /content/drive/MyDrive/Crema.zip -d /content/drive/MyDrive/Crema"
   ]
  },
  {
   "cell_type": "code",
   "execution_count": 5,
   "metadata": {
    "colab": {
     "base_uri": "https://localhost:8080/"
    },
    "id": "jfG9F5ss-Hm-",
    "outputId": "0e064a46-6664-42cf-9e09-eedfa333998b"
   },
   "outputs": [
    {
     "name": "stdout",
     "output_type": "stream",
     "text": [
      "['NEU', 'HAP', 'FEA', 'HAP', 'HAP', 'DIS', 'NEU', 'DIS', 'NEU', 'SAD', 'HAP', 'HAP', 'DIS', 'ANG', 'HAP', 'FEA', 'SAD', 'ANG', 'SAD', 'ANG', 'FEA', 'ANG', 'SAD', 'SAD', 'NEU', 'FEA', 'HAP', 'DIS', 'DIS', 'FEA', 'HAP', 'ANG', 'DIS', 'SAD', 'HAP', 'NEU', 'HAP', 'DIS', 'DIS', 'DIS', 'ANG', 'HAP', 'NEU', 'SAD', 'DIS', 'ANG', 'ANG', 'DIS', 'ANG', 'HAP', 'FEA', 'ANG', 'HAP', 'NEU', 'FEA', 'NEU', 'HAP', 'DIS', 'HAP', 'HAP', 'NEU', 'HAP', 'NEU', 'DIS', 'NEU', 'HAP', 'NEU', 'ANG', 'DIS', 'SAD', 'SAD', 'SAD', 'NEU', 'ANG', 'NEU', 'SAD', 'DIS', 'ANG', 'ANG', 'FEA', 'FEA', 'FEA', 'SAD', 'DIS', 'SAD', 'DIS', 'SAD', 'FEA', 'FEA', 'FEA', 'FEA', 'NEU', 'FEA', 'FEA', 'DIS', 'FEA', 'ANG', 'ANG', 'HAP', 'SAD', 'HAP', 'NEU', 'SAD', 'NEU', 'HAP', 'HAP', 'ANG', 'ANG', 'SAD', 'HAP', 'HAP', 'NEU', 'FEA', 'ANG', 'DIS', 'ANG', 'SAD', 'FEA', 'ANG', 'ANG', 'DIS', 'SAD', 'HAP', 'HAP', 'SAD', 'ANG', 'HAP', 'ANG', 'DIS', 'DIS', 'DIS', 'HAP', 'DIS', 'NEU', 'DIS', 'NEU', 'HAP', 'DIS', 'HAP', 'FEA', 'NEU', 'NEU', 'HAP', 'HAP', 'DIS', 'NEU', 'SAD', 'HAP', 'FEA', 'FEA', 'ANG', 'ANG', 'FEA', 'ANG', 'ANG', 'FEA', 'FEA', 'SAD', 'SAD', 'SAD', 'NEU', 'DIS', 'ANG', 'DIS', 'ANG', 'NEU', 'SAD', 'ANG', 'FEA', 'FEA', 'DIS', 'NEU', 'FEA', 'FEA', 'SAD', 'ANG', 'HAP', 'FEA', 'HAP', 'HAP', 'FEA', 'HAP', 'DIS', 'HAP', 'SAD', 'NEU', 'DIS', 'SAD', 'DIS', 'FEA', 'HAP', 'SAD', 'FEA', 'FEA', 'NEU', 'SAD', 'NEU', 'HAP', 'SAD', 'HAP', 'HAP', 'ANG', 'HAP', 'SAD', 'DIS', 'FEA', 'DIS', 'SAD', 'FEA', 'ANG', 'FEA', 'NEU', 'HAP', 'FEA', 'DIS', 'FEA', 'ANG', 'HAP', 'NEU', 'DIS', 'ANG', 'DIS', 'NEU', 'DIS', 'ANG', 'FEA', 'FEA', 'SAD', 'DIS', 'HAP', 'FEA', 'SAD', 'SAD', 'DIS', 'FEA', 'ANG', 'HAP', 'ANG', 'SAD', 'HAP', 'ANG', 'NEU', 'SAD', 'ANG', 'NEU', 'NEU', 'ANG', 'FEA', 'FEA', 'NEU', 'ANG', 'ANG', 'SAD', 'SAD', 'DIS', 'DIS', 'FEA', 'ANG', 'NEU', 'DIS', 'FEA', 'DIS', 'DIS', 'DIS', 'NEU', 'DIS', 'FEA', 'HAP', 'HAP', 'DIS', 'ANG', 'SAD', 'NEU', 'DIS', 'SAD', 'FEA', 'SAD', 'ANG', 'NEU', 'DIS', 'NEU', 'SAD', 'ANG', 'SAD', 'FEA', 'ANG', 'NEU', 'SAD', 'HAP', 'SAD', 'FEA', 'NEU', 'NEU', 'HAP', 'ANG', 'ANG', 'SAD', 'SAD', 'SAD', 'DIS', 'NEU', 'ANG', 'DIS', 'HAP', 'FEA', 'FEA', 'FEA', 'HAP', 'FEA', 'SAD', 'DIS', 'ANG', 'ANG', 'HAP', 'DIS', 'NEU', 'ANG', 'FEA', 'FEA', 'HAP', 'ANG', 'FEA', 'NEU', 'ANG', 'ANG', 'DIS', 'SAD', 'SAD', 'DIS', 'FEA', 'NEU', 'DIS', 'ANG', 'FEA', 'FEA', 'NEU', 'HAP', 'SAD', 'HAP', 'FEA', 'NEU', 'DIS', 'HAP', 'FEA', 'HAP', 'SAD', 'HAP', 'SAD', 'ANG', 'HAP', 'ANG', 'DIS', 'SAD', 'DIS', 'ANG', 'NEU', 'HAP', 'NEU', 'DIS', 'SAD', 'SAD', 'ANG', 'DIS', 'FEA', 'DIS', 'HAP', 'ANG', 'NEU', 'DIS', 'ANG', 'FEA', 'HAP', 'SAD', 'DIS', 'SAD', 'NEU', 'DIS', 'DIS', 'NEU', 'ANG', 'HAP', 'ANG', 'NEU', 'ANG', 'NEU', 'FEA', 'SAD', 'NEU', 'HAP', 'ANG', 'FEA', 'HAP', 'ANG', 'NEU', 'DIS', 'ANG', 'NEU', 'DIS', 'SAD', 'FEA', 'DIS', 'SAD', 'DIS', 'SAD', 'HAP', 'NEU', 'DIS', 'HAP', 'ANG', 'HAP', 'SAD', 'SAD', 'SAD', 'SAD', 'DIS', 'FEA', 'HAP', 'NEU', 'DIS', 'FEA', 'HAP', 'FEA', 'SAD', 'FEA', 'FEA', 'SAD', 'FEA', 'FEA', 'NEU', 'SAD', 'NEU', 'HAP', 'HAP', 'SAD', 'FEA', 'SAD', 'DIS', 'ANG', 'FEA', 'HAP', 'FEA', 'HAP', 'NEU', 'ANG', 'ANG', 'DIS', 'SAD', 'HAP', 'ANG', 'NEU', 'DIS', 'HAP', 'ANG', 'ANG', 'DIS', 'DIS', 'FEA', 'SAD', 'DIS', 'ANG', 'SAD', 'HAP', 'DIS', 'SAD', 'SAD', 'HAP', 'FEA', 'SAD', 'FEA', 'DIS', 'SAD', 'NEU', 'ANG', 'DIS', 'SAD', 'NEU', 'HAP', 'SAD', 'DIS', 'ANG', 'ANG', 'SAD', 'ANG', 'SAD', 'DIS', 'HAP', 'ANG', 'FEA', 'SAD', 'ANG', 'SAD', 'NEU', 'ANG', 'SAD', 'SAD', 'HAP', 'DIS', 'HAP', 'DIS', 'HAP', 'NEU', 'DIS', 'NEU', 'DIS', 'FEA', 'NEU', 'FEA', 'SAD', 'SAD', 'HAP', 'FEA', 'ANG', 'HAP', 'FEA', 'FEA', 'NEU', 'ANG', 'NEU', 'DIS', 'FEA', 'SAD', 'FEA', 'FEA', 'SAD', 'DIS', 'SAD', 'HAP', 'HAP', 'FEA', 'HAP', 'NEU', 'SAD', 'FEA', 'HAP', 'DIS', 'HAP', 'ANG', 'SAD', 'DIS', 'HAP', 'SAD', 'DIS', 'ANG', 'DIS', 'DIS', 'HAP', 'HAP', 'FEA', 'NEU', 'ANG', 'NEU', 'NEU', 'ANG', 'SAD', 'HAP', 'DIS', 'ANG', 'FEA', 'FEA', 'ANG', 'FEA', 'ANG', 'ANG', 'NEU', 'ANG', 'DIS', 'DIS', 'NEU', 'FEA', 'ANG', 'HAP', 'SAD', 'FEA', 'NEU', 'FEA', 'FEA', 'SAD', 'NEU', 'ANG', 'NEU', 'ANG', 'HAP', 'SAD', 'FEA', 'DIS', 'NEU', 'ANG', 'SAD', 'HAP', 'NEU', 'DIS', 'DIS', 'NEU', 'ANG', 'HAP', 'NEU', 'DIS', 'SAD', 'ANG', 'NEU', 'HAP', 'DIS', 'SAD', 'HAP', 'ANG', 'HAP', 'ANG', 'HAP', 'FEA', 'HAP', 'NEU', 'HAP', 'NEU', 'FEA', 'FEA', 'DIS', 'DIS', 'ANG', 'FEA', 'DIS', 'FEA', 'FEA', 'DIS', 'HAP', 'ANG', 'NEU', 'DIS', 'FEA', 'FEA', 'FEA', 'NEU', 'ANG', 'NEU', 'NEU', 'ANG', 'SAD', 'SAD', 'SAD', 'HAP', 'HAP', 'FEA', 'NEU', 'ANG', 'NEU', 'FEA', 'SAD', 'FEA', 'HAP', 'ANG', 'DIS', 'FEA', 'HAP', 'DIS', 'SAD', 'ANG', 'ANG', 'ANG', 'HAP', 'ANG', 'ANG', 'DIS', 'NEU', 'HAP', 'HAP', 'ANG', 'NEU', 'SAD', 'HAP', 'DIS', 'DIS', 'NEU', 'NEU', 'SAD', 'NEU', 'HAP', 'DIS', 'ANG', 'FEA', 'NEU', 'FEA', 'DIS', 'FEA', 'HAP', 'DIS', 'SAD', 'ANG', 'SAD', 'FEA', 'SAD', 'HAP', 'NEU', 'HAP', 'ANG', 'FEA', 'DIS', 'FEA', 'ANG', 'FEA', 'DIS', 'FEA', 'FEA', 'ANG', 'NEU', 'FEA', 'HAP', 'FEA', 'DIS', 'HAP', 'SAD', 'ANG', 'FEA', 'NEU', 'ANG', 'ANG', 'DIS', 'HAP', 'FEA', 'HAP', 'DIS', 'DIS', 'HAP', 'DIS', 'DIS', 'NEU', 'HAP', 'DIS', 'FEA', 'HAP', 'SAD', 'NEU', 'SAD', 'DIS', 'SAD', 'FEA', 'ANG', 'NEU', 'DIS', 'ANG', 'DIS', 'FEA', 'HAP', 'NEU', 'SAD', 'DIS', 'SAD', 'FEA', 'FEA', 'ANG', 'NEU', 'SAD', 'HAP', 'SAD', 'ANG', 'NEU', 'SAD', 'HAP', 'DIS', 'SAD', 'NEU', 'DIS', 'FEA', 'FEA', 'HAP', 'ANG', 'SAD', 'NEU', 'ANG', 'FEA', 'ANG', 'SAD', 'SAD', 'SAD', 'DIS', 'SAD', 'SAD', 'HAP', 'HAP', 'DIS', 'HAP', 'NEU', 'DIS', 'FEA', 'NEU', 'DIS', 'DIS', 'ANG', 'ANG', 'SAD', 'ANG', 'HAP', 'SAD', 'SAD', 'HAP', 'NEU', 'HAP', 'NEU', 'ANG', 'SAD', 'DIS', 'FEA', 'ANG', 'HAP', 'NEU', 'FEA', 'DIS', 'HAP', 'HAP', 'FEA', 'HAP', 'DIS', 'ANG', 'NEU', 'SAD', 'ANG', 'HAP', 'NEU', 'FEA', 'FEA', 'SAD', 'ANG', 'DIS', 'SAD', 'DIS', 'FEA', 'DIS', 'DIS', 'NEU', 'FEA', 'SAD', 'HAP', 'NEU', 'SAD', 'SAD', 'ANG', 'SAD', 'ANG', 'NEU', 'SAD', 'SAD', 'DIS', 'FEA', 'SAD', 'FEA', 'NEU', 'DIS', 'FEA', 'ANG', 'FEA', 'SAD', 'HAP', 'ANG', 'DIS', 'FEA', 'SAD', 'HAP', 'DIS', 'SAD', 'FEA', 'HAP', 'SAD', 'FEA', 'ANG', 'ANG', 'FEA', 'ANG', 'NEU', 'NEU', 'HAP', 'FEA', 'ANG', 'SAD', 'FEA', 'FEA', 'SAD', 'SAD', 'SAD', 'HAP', 'NEU', 'HAP', 'DIS', 'FEA', 'DIS', 'HAP', 'HAP', 'FEA', 'DIS', 'FEA', 'SAD', 'SAD', 'NEU', 'SAD', 'DIS', 'NEU', 'HAP', 'ANG', 'ANG', 'DIS', 'ANG', 'HAP', 'FEA', 'FEA', 'NEU', 'NEU', 'FEA', 'NEU', 'ANG', 'DIS', 'FEA', 'FEA', 'SAD', 'ANG', 'DIS', 'SAD', 'HAP', 'NEU', 'DIS', 'NEU', 'DIS', 'NEU', 'ANG', 'FEA', 'DIS', 'ANG', 'SAD', 'DIS', 'DIS', 'HAP', 'HAP', 'NEU', 'FEA', 'DIS', 'HAP', 'HAP', 'NEU', 'SAD', 'NEU', 'DIS', 'HAP', 'DIS', 'SAD', 'FEA', 'ANG', 'NEU', 'ANG', 'HAP', 'HAP', 'DIS', 'HAP', 'SAD', 'ANG', 'ANG', 'HAP', 'NEU', 'SAD', 'ANG', 'FEA', 'DIS', 'ANG', 'HAP', 'ANG', 'NEU', 'ANG', 'NEU', 'DIS', 'ANG', 'HAP', 'ANG', 'ANG', 'HAP', 'FEA', 'HAP', 'SAD', 'NEU', 'DIS', 'HAP', 'SAD', 'ANG', 'ANG', 'FEA', 'ANG', 'FEA', 'DIS', 'HAP', 'DIS', 'DIS', 'FEA', 'SAD', 'SAD', 'NEU', 'NEU', 'SAD', 'HAP', 'FEA', 'ANG', 'NEU', 'SAD', 'DIS', 'NEU', 'HAP', 'HAP', 'DIS', 'HAP', 'DIS', 'NEU', 'ANG', 'SAD', 'NEU', 'ANG', 'FEA', 'HAP', 'ANG', 'NEU', 'ANG', 'HAP', 'HAP', 'ANG', 'ANG', 'HAP', 'FEA', 'ANG', 'ANG', 'HAP', 'ANG', 'NEU', 'ANG', 'SAD', 'HAP', 'NEU', 'DIS', 'FEA', 'NEU', 'ANG', 'NEU', 'DIS', 'ANG', 'HAP', 'FEA', 'HAP', 'FEA', 'HAP', 'NEU', 'SAD', 'FEA', 'HAP', 'ANG', 'SAD', 'SAD', 'FEA', 'HAP', 'ANG', 'DIS', 'FEA', 'DIS', 'DIS', 'HAP', 'NEU', 'NEU', 'NEU', 'ANG', 'NEU', 'ANG', 'FEA', 'SAD', 'DIS', 'NEU', 'NEU', 'HAP', 'NEU', 'DIS', 'SAD', 'NEU', 'DIS', 'ANG', 'NEU', 'SAD', 'SAD', 'HAP', 'FEA', 'SAD', 'NEU', 'DIS', 'DIS', 'HAP', 'HAP', 'SAD', 'SAD', 'FEA', 'FEA', 'ANG', 'DIS', 'HAP', 'ANG', 'DIS', 'SAD', 'HAP', 'DIS', 'HAP', 'NEU', 'HAP', 'HAP', 'SAD', 'DIS', 'SAD', 'HAP', 'FEA', 'HAP', 'SAD', 'FEA', 'HAP', 'DIS', 'ANG', 'FEA', 'FEA', 'FEA', 'SAD', 'ANG', 'FEA', 'DIS', 'DIS', 'HAP', 'NEU', 'DIS', 'SAD', 'ANG', 'NEU', 'DIS', 'ANG', 'FEA', 'SAD', 'ANG', 'DIS', 'FEA', 'SAD', 'NEU', 'ANG', 'ANG', 'HAP', 'ANG', 'ANG', 'SAD', 'DIS', 'DIS', 'DIS', 'ANG', 'DIS', 'NEU', 'SAD', 'FEA', 'SAD', 'SAD', 'ANG', 'DIS', 'DIS', 'FEA', 'ANG', 'ANG', 'FEA', 'FEA', 'NEU', 'DIS', 'HAP', 'DIS', 'DIS', 'HAP', 'DIS', 'FEA', 'FEA', 'NEU', 'FEA', 'FEA', 'SAD', 'DIS', 'FEA', 'DIS', 'HAP', 'FEA', 'NEU', 'HAP', 'DIS', 'HAP', 'SAD', 'HAP', 'FEA', 'SAD', 'SAD', 'SAD', 'SAD', 'FEA', 'SAD', 'NEU', 'FEA', 'SAD', 'NEU', 'HAP', 'ANG', 'SAD', 'ANG', 'HAP', 'HAP', 'ANG', 'HAP', 'SAD', 'NEU', 'ANG', 'ANG', 'SAD', 'NEU', 'DIS', 'SAD', 'SAD', 'NEU', 'SAD', 'NEU', 'DIS', 'NEU', 'DIS', 'NEU', 'SAD', 'DIS', 'HAP', 'SAD', 'HAP', 'HAP', 'FEA', 'HAP', 'DIS', 'HAP', 'FEA', 'DIS', 'ANG', 'SAD', 'FEA', 'DIS', 'HAP', 'NEU', 'HAP', 'FEA', 'SAD', 'HAP', 'DIS', 'HAP', 'HAP', 'SAD', 'HAP', 'FEA', 'FEA', 'FEA', 'DIS', 'DIS', 'NEU', 'NEU', 'ANG', 'SAD', 'DIS', 'DIS', 'DIS', 'HAP', 'NEU', 'HAP', 'SAD', 'DIS', 'FEA', 'SAD', 'SAD', 'HAP', 'DIS', 'ANG', 'SAD', 'SAD', 'SAD', 'HAP', 'NEU', 'NEU', 'HAP', 'HAP', 'FEA', 'FEA', 'ANG', 'ANG', 'SAD', 'DIS', 'DIS', 'FEA', 'DIS', 'HAP', 'FEA', 'HAP', 'HAP', 'FEA', 'FEA', 'ANG', 'SAD', 'SAD', 'ANG', 'DIS', 'ANG', 'DIS', 'FEA', 'FEA', 'SAD', 'NEU', 'ANG', 'ANG', 'ANG', 'HAP', 'HAP', 'NEU', 'SAD', 'ANG', 'FEA', 'FEA', 'SAD', 'ANG', 'NEU', 'HAP', 'ANG', 'FEA', 'SAD', 'SAD', 'DIS', 'NEU', 'HAP', 'ANG', 'FEA', 'ANG', 'DIS', 'ANG', 'DIS', 'NEU', 'NEU', 'HAP', 'DIS', 'HAP', 'ANG', 'FEA', 'SAD', 'NEU', 'NEU', 'ANG', 'FEA', 'DIS', 'SAD', 'NEU', 'ANG', 'FEA', 'NEU', 'ANG', 'NEU', 'SAD', 'SAD', 'ANG', 'NEU', 'ANG', 'DIS', 'DIS', 'HAP', 'DIS', 'ANG', 'NEU', 'ANG', 'FEA', 'FEA', 'FEA', 'ANG', 'FEA', 'HAP', 'DIS', 'NEU', 'DIS', 'ANG', 'FEA', 'DIS', 'FEA', 'ANG', 'FEA', 'DIS', 'HAP', 'NEU', 'FEA', 'FEA', 'ANG', 'SAD', 'DIS', 'SAD', 'SAD', 'HAP', 'FEA', 'HAP', 'ANG', 'DIS', 'DIS', 'FEA', 'NEU', 'FEA', 'NEU', 'SAD', 'NEU', 'SAD', 'ANG', 'DIS', 'ANG', 'FEA', 'SAD', 'DIS', 'DIS', 'HAP', 'ANG', 'FEA', 'HAP', 'FEA', 'DIS', 'HAP', 'ANG', 'SAD', 'ANG', 'HAP', 'NEU', 'SAD', 'SAD', 'NEU', 'ANG', 'HAP', 'NEU', 'DIS', 'DIS', 'FEA', 'NEU', 'SAD', 'DIS', 'NEU', 'DIS', 'DIS', 'ANG', 'FEA', 'HAP', 'SAD', 'SAD', 'SAD', 'NEU', 'DIS', 'DIS', 'SAD', 'HAP', 'HAP', 'SAD', 'SAD', 'ANG', 'HAP', 'HAP', 'DIS', 'DIS', 'SAD', 'SAD', 'ANG', 'FEA', 'FEA', 'ANG', 'FEA', 'SAD', 'FEA', 'DIS', 'DIS', 'NEU', 'DIS', 'DIS', 'ANG', 'HAP', 'FEA', 'HAP', 'DIS', 'FEA', 'ANG', 'FEA', 'SAD', 'SAD', 'SAD', 'FEA', 'NEU', 'HAP', 'DIS', 'HAP', 'FEA', 'FEA', 'ANG', 'NEU', 'SAD', 'ANG', 'DIS', 'NEU', 'HAP', 'NEU', 'NEU', 'HAP', 'HAP', 'FEA', 'FEA', 'HAP', 'HAP', 'DIS', 'ANG', 'ANG', 'HAP', 'SAD', 'SAD', 'DIS', 'DIS', 'FEA', 'HAP', 'HAP', 'NEU', 'HAP', 'FEA', 'SAD', 'FEA', 'DIS', 'NEU', 'NEU', 'DIS', 'ANG', 'NEU', 'ANG', 'ANG', 'SAD', 'NEU', 'FEA', 'ANG', 'DIS', 'ANG', 'HAP', 'ANG', 'SAD', 'FEA', 'FEA', 'SAD', 'HAP', 'NEU', 'HAP', 'SAD', 'SAD', 'ANG', 'ANG', 'DIS', 'NEU', 'NEU', 'HAP', 'ANG', 'NEU', 'ANG', 'ANG', 'NEU', 'HAP', 'ANG', 'FEA', 'FEA', 'FEA', 'FEA', 'NEU', 'SAD', 'FEA', 'SAD', 'SAD', 'SAD', 'DIS', 'NEU', 'NEU', 'NEU', 'FEA', 'ANG', 'FEA', 'DIS', 'NEU', 'ANG', 'HAP', 'NEU', 'NEU', 'HAP', 'FEA', 'ANG', 'DIS', 'HAP', 'SAD', 'SAD', 'DIS', 'FEA', 'DIS', 'SAD', 'SAD', 'HAP', 'HAP', 'ANG', 'SAD', 'HAP', 'FEA', 'ANG', 'FEA', 'HAP', 'NEU', 'NEU', 'SAD', 'HAP', 'SAD', 'NEU', 'HAP', 'HAP', 'ANG', 'ANG', 'DIS', 'ANG', 'HAP', 'SAD', 'FEA', 'HAP', 'SAD', 'HAP', 'FEA', 'HAP', 'FEA', 'DIS', 'FEA', 'FEA', 'FEA', 'HAP', 'SAD', 'ANG', 'DIS', 'NEU', 'FEA', 'SAD', 'HAP', 'FEA', 'ANG', 'FEA', 'FEA', 'DIS', 'HAP', 'DIS', 'ANG', 'ANG', 'SAD', 'FEA', 'NEU', 'NEU', 'ANG', 'SAD', 'HAP', 'NEU', 'ANG', 'DIS', 'ANG', 'DIS', 'ANG', 'FEA', 'SAD', 'SAD', 'ANG', 'FEA', 'NEU', 'DIS', 'ANG', 'NEU', 'NEU', 'HAP', 'SAD', 'HAP', 'DIS', 'SAD', 'HAP', 'FEA', 'HAP', 'DIS', 'DIS', 'FEA', 'HAP', 'SAD', 'SAD', 'HAP', 'DIS', 'FEA', 'NEU', 'FEA', 'HAP', 'DIS', 'SAD', 'DIS', 'FEA', 'ANG', 'NEU', 'DIS', 'SAD', 'DIS', 'NEU', 'ANG', 'FEA', 'ANG', 'ANG', 'NEU', 'ANG', 'DIS', 'SAD', 'DIS', 'FEA', 'SAD', 'SAD', 'DIS', 'FEA', 'ANG', 'DIS', 'HAP', 'SAD', 'HAP', 'NEU', 'DIS', 'FEA', 'HAP', 'HAP', 'NEU', 'DIS', 'ANG', 'ANG', 'ANG', 'SAD', 'NEU', 'ANG', 'ANG', 'NEU', 'DIS', 'SAD', 'DIS', 'FEA', 'DIS', 'DIS', 'SAD', 'FEA', 'ANG', 'FEA', 'FEA', 'SAD', 'DIS', 'ANG', 'DIS', 'NEU', 'ANG', 'ANG', 'DIS', 'ANG', 'HAP', 'DIS', 'NEU', 'NEU', 'DIS', 'DIS', 'FEA', 'HAP', 'FEA', 'FEA', 'ANG', 'SAD', 'NEU', 'DIS', 'SAD', 'NEU', 'DIS', 'HAP', 'NEU', 'DIS', 'HAP', 'SAD', 'SAD', 'SAD', 'NEU', 'NEU', 'FEA', 'ANG', 'FEA', 'SAD', 'NEU', 'ANG', 'FEA', 'HAP', 'SAD', 'HAP', 'SAD', 'ANG', 'HAP', 'DIS', 'SAD', 'ANG', 'NEU', 'SAD', 'ANG', 'SAD', 'FEA', 'DIS', 'ANG', 'HAP', 'SAD', 'FEA', 'ANG', 'NEU', 'NEU', 'FEA', 'DIS', 'ANG', 'ANG', 'ANG', 'DIS', 'NEU', 'NEU', 'FEA', 'FEA', 'SAD', 'DIS', 'SAD', 'SAD', 'FEA', 'FEA', 'ANG', 'FEA', 'NEU', 'FEA', 'NEU', 'ANG', 'HAP', 'DIS', 'HAP', 'HAP', 'SAD', 'NEU', 'ANG', 'FEA', 'DIS', 'ANG', 'DIS', 'NEU', 'SAD', 'FEA', 'HAP', 'ANG', 'DIS', 'ANG', 'SAD', 'NEU', 'FEA', 'HAP', 'SAD', 'SAD', 'DIS', 'HAP', 'ANG', 'NEU', 'DIS', 'DIS', 'HAP', 'FEA', 'FEA', 'ANG', 'NEU', 'NEU', 'NEU', 'SAD', 'HAP', 'HAP', 'SAD', 'ANG', 'DIS', 'NEU', 'SAD', 'FEA', 'HAP', 'HAP', 'DIS', 'ANG', 'HAP', 'DIS', 'FEA', 'DIS', 'ANG', 'HAP', 'HAP', 'HAP', 'DIS', 'FEA', 'SAD', 'HAP', 'SAD', 'ANG', 'NEU', 'FEA', 'SAD', 'NEU', 'HAP', 'SAD', 'DIS', 'NEU', 'DIS', 'ANG', 'HAP', 'FEA', 'DIS', 'HAP', 'FEA', 'HAP', 'DIS', 'HAP', 'HAP', 'FEA', 'HAP', 'NEU', 'ANG', 'FEA', 'HAP', 'FEA', 'SAD', 'ANG', 'ANG', 'DIS', 'SAD', 'ANG', 'SAD', 'NEU', 'HAP', 'NEU', 'HAP', 'SAD', 'SAD', 'FEA', 'HAP', 'NEU', 'FEA', 'HAP', 'ANG', 'SAD', 'ANG', 'SAD', 'HAP', 'HAP', 'HAP', 'NEU', 'ANG', 'SAD', 'FEA', 'ANG', 'NEU', 'SAD', 'NEU', 'FEA', 'DIS', 'DIS', 'DIS', 'ANG', 'DIS', 'NEU', 'HAP', 'SAD', 'DIS', 'HAP', 'HAP', 'SAD', 'HAP', 'DIS', 'NEU', 'FEA', 'DIS', 'SAD', 'ANG', 'NEU', 'DIS', 'FEA', 'NEU', 'HAP', 'DIS', 'SAD', 'ANG', 'FEA', 'FEA', 'NEU', 'NEU', 'SAD', 'HAP', 'DIS', 'SAD', 'DIS', 'FEA', 'SAD', 'ANG', 'ANG', 'FEA', 'FEA', 'ANG', 'SAD', 'SAD', 'ANG', 'ANG', 'FEA', 'SAD', 'DIS', 'SAD', 'ANG', 'FEA', 'ANG', 'SAD', 'ANG', 'HAP', 'ANG', 'SAD', 'DIS', 'DIS', 'ANG', 'NEU', 'ANG', 'HAP', 'FEA', 'NEU', 'HAP', 'HAP', 'DIS', 'SAD', 'FEA', 'SAD', 'SAD', 'NEU', 'FEA', 'HAP', 'NEU', 'HAP', 'SAD', 'ANG', 'FEA', 'HAP', 'NEU', 'SAD', 'SAD', 'SAD', 'SAD', 'DIS', 'ANG', 'FEA', 'SAD', 'HAP', 'DIS', 'FEA', 'FEA', 'NEU', 'HAP', 'FEA', 'SAD', 'ANG', 'DIS', 'ANG', 'FEA', 'DIS', 'NEU', 'NEU', 'SAD', 'SAD', 'HAP', 'FEA', 'HAP', 'HAP', 'FEA', 'HAP', 'ANG', 'SAD', 'SAD', 'SAD', 'NEU', 'SAD', 'HAP', 'SAD', 'ANG', 'ANG', 'NEU', 'SAD', 'FEA', 'ANG', 'DIS', 'SAD', 'ANG', 'FEA', 'HAP', 'ANG', 'DIS', 'ANG', 'FEA', 'SAD', 'HAP', 'FEA', 'NEU', 'FEA', 'ANG', 'ANG', 'HAP', 'SAD', 'ANG', 'NEU', 'HAP', 'SAD', 'HAP', 'DIS', 'SAD', 'DIS', 'DIS', 'ANG', 'HAP', 'ANG', 'DIS', 'NEU', 'SAD', 'DIS', 'SAD', 'HAP', 'DIS', 'FEA', 'NEU', 'SAD', 'NEU', 'DIS', 'HAP', 'FEA', 'FEA', 'HAP', 'FEA', 'ANG', 'SAD', 'SAD', 'SAD', 'ANG', 'SAD', 'FEA', 'HAP', 'HAP', 'NEU', 'ANG', 'HAP', 'NEU', 'DIS', 'HAP', 'DIS', 'DIS', 'NEU', 'ANG', 'NEU', 'DIS', 'HAP', 'HAP', 'ANG', 'SAD', 'HAP', 'SAD', 'SAD', 'ANG', 'DIS', 'HAP', 'FEA', 'HAP', 'HAP', 'FEA', 'DIS', 'FEA', 'ANG', 'NEU', 'ANG', 'FEA', 'NEU', 'HAP', 'DIS', 'NEU', 'SAD', 'NEU', 'DIS', 'HAP', 'NEU', 'HAP', 'ANG', 'FEA', 'NEU', 'FEA', 'SAD', 'FEA', 'FEA', 'HAP', 'FEA', 'SAD', 'FEA', 'ANG', 'FEA', 'NEU', 'FEA', 'HAP', 'ANG', 'NEU', 'ANG', 'SAD', 'NEU', 'FEA', 'HAP', 'FEA', 'FEA', 'DIS', 'HAP', 'FEA', 'ANG', 'ANG', 'ANG', 'HAP', 'HAP', 'HAP', 'SAD', 'NEU', 'DIS', 'SAD', 'DIS', 'SAD', 'FEA', 'DIS', 'NEU', 'SAD', 'NEU', 'DIS', 'HAP', 'DIS', 'NEU', 'NEU', 'DIS', 'FEA', 'ANG', 'DIS', 'DIS', 'FEA', 'DIS', 'DIS', 'ANG', 'DIS', 'ANG', 'SAD', 'SAD', 'NEU', 'DIS', 'SAD', 'SAD', 'FEA', 'FEA', 'SAD', 'SAD', 'DIS', 'SAD', 'ANG', 'SAD', 'HAP', 'NEU', 'HAP', 'ANG', 'NEU', 'ANG', 'DIS', 'NEU', 'SAD', 'ANG', 'FEA', 'HAP', 'FEA', 'SAD', 'DIS', 'DIS', 'NEU', 'DIS', 'HAP', 'HAP', 'SAD', 'FEA', 'ANG', 'HAP', 'ANG', 'FEA', 'DIS', 'DIS', 'FEA', 'ANG', 'HAP', 'SAD', 'NEU', 'ANG', 'ANG', 'HAP', 'HAP', 'ANG', 'HAP', 'ANG', 'HAP', 'ANG', 'SAD', 'ANG', 'HAP', 'NEU', 'HAP', 'SAD', 'DIS', 'SAD', 'NEU', 'DIS', 'SAD', 'FEA', 'DIS', 'ANG', 'ANG', 'HAP', 'ANG', 'ANG', 'FEA', 'HAP', 'ANG', 'NEU', 'HAP', 'FEA', 'ANG', 'NEU', 'ANG', 'FEA', 'SAD', 'HAP', 'NEU', 'NEU', 'DIS', 'SAD', 'FEA', 'NEU', 'SAD', 'DIS', 'ANG', 'ANG', 'NEU', 'HAP', 'HAP', 'NEU', 'DIS', 'ANG', 'SAD', 'DIS', 'ANG', 'SAD', 'FEA', 'SAD', 'FEA', 'SAD', 'FEA', 'SAD', 'FEA', 'FEA', 'DIS', 'ANG', 'FEA', 'NEU', 'NEU', 'SAD', 'DIS', 'HAP', 'DIS', 'DIS', 'DIS', 'FEA', 'SAD', 'NEU', 'FEA', 'HAP', 'DIS', 'HAP', 'DIS', 'SAD', 'FEA', 'HAP', 'FEA', 'HAP', 'NEU', 'HAP', 'DIS', 'FEA', 'ANG', 'SAD', 'HAP', 'HAP', 'FEA', 'DIS', 'NEU', 'HAP', 'FEA', 'FEA', 'FEA', 'SAD', 'HAP', 'ANG', 'ANG', 'NEU', 'SAD', 'FEA', 'SAD', 'ANG', 'ANG', 'HAP', 'NEU', 'DIS', 'DIS', 'DIS', 'DIS', 'DIS', 'NEU', 'NEU', 'SAD', 'FEA', 'DIS', 'NEU', 'ANG', 'SAD', 'SAD', 'DIS', 'SAD', 'HAP', 'FEA', 'NEU', 'FEA', 'FEA', 'DIS', 'DIS', 'FEA', 'DIS', 'NEU', 'NEU', 'HAP', 'FEA', 'SAD', 'SAD', 'NEU', 'NEU', 'FEA', 'NEU', 'ANG', 'HAP', 'DIS', 'NEU', 'HAP', 'ANG', 'SAD', 'SAD', 'HAP', 'NEU', 'SAD', 'SAD', 'SAD', 'ANG', 'DIS', 'ANG', 'FEA', 'ANG', 'SAD', 'FEA', 'NEU', 'HAP', 'DIS', 'HAP', 'ANG', 'ANG', 'SAD', 'DIS', 'SAD', 'ANG', 'SAD', 'HAP', 'FEA', 'HAP', 'DIS', 'DIS', 'DIS', 'NEU', 'ANG', 'FEA', 'FEA', 'NEU', 'NEU', 'HAP', 'ANG', 'DIS', 'HAP', 'HAP', 'NEU', 'HAP', 'SAD', 'DIS', 'HAP', 'DIS', 'NEU', 'ANG', 'HAP', 'DIS', 'ANG', 'FEA', 'FEA', 'DIS', 'FEA', 'HAP', 'FEA', 'HAP', 'HAP', 'NEU', 'FEA', 'FEA', 'NEU', 'SAD', 'FEA', 'ANG', 'HAP', 'SAD', 'HAP', 'ANG', 'ANG', 'ANG', 'FEA', 'ANG', 'DIS', 'ANG', 'SAD', 'DIS', 'FEA', 'FEA', 'ANG', 'NEU', 'HAP', 'FEA', 'FEA', 'ANG', 'DIS', 'FEA', 'HAP', 'NEU', 'DIS', 'FEA', 'ANG', 'SAD', 'FEA', 'DIS', 'SAD', 'SAD', 'HAP', 'NEU', 'ANG', 'FEA', 'ANG', 'FEA', 'ANG', 'DIS', 'DIS', 'SAD', 'ANG', 'HAP', 'SAD', 'ANG', 'NEU', 'SAD', 'DIS', 'NEU', 'DIS', 'ANG', 'SAD', 'SAD', 'FEA', 'ANG', 'SAD', 'ANG', 'NEU', 'DIS', 'DIS', 'DIS', 'FEA', 'DIS', 'NEU', 'SAD', 'SAD', 'HAP', 'HAP', 'DIS', 'SAD', 'DIS', 'FEA', 'ANG', 'ANG', 'HAP', 'DIS', 'SAD', 'FEA', 'FEA', 'FEA', 'SAD', 'NEU', 'DIS', 'DIS', 'HAP', 'NEU', 'ANG', 'DIS', 'HAP', 'SAD', 'NEU', 'HAP', 'FEA', 'NEU', 'ANG', 'HAP', 'NEU', 'ANG', 'SAD', 'HAP', 'FEA', 'NEU', 'NEU', 'HAP', 'SAD', 'DIS', 'ANG', 'SAD', 'HAP', 'ANG', 'FEA', 'HAP', 'SAD', 'SAD', 'ANG', 'DIS', 'NEU', 'NEU', 'SAD', 'DIS', 'SAD', 'SAD', 'ANG', 'NEU', 'DIS', 'NEU', 'HAP', 'FEA', 'SAD', 'SAD', 'DIS', 'SAD', 'SAD', 'HAP', 'ANG', 'FEA', 'HAP', 'SAD', 'DIS', 'HAP', 'ANG', 'ANG', 'NEU', 'NEU', 'SAD', 'SAD', 'DIS', 'FEA', 'ANG', 'ANG', 'HAP', 'NEU', 'HAP', 'FEA', 'NEU', 'DIS', 'HAP', 'FEA', 'NEU', 'SAD', 'DIS', 'NEU', 'FEA', 'HAP', 'SAD', 'HAP', 'ANG', 'FEA', 'FEA', 'ANG', 'FEA', 'FEA', 'ANG', 'SAD', 'ANG', 'NEU', 'HAP', 'HAP', 'HAP', 'HAP', 'FEA', 'ANG', 'SAD', 'HAP', 'SAD', 'ANG', 'HAP', 'SAD', 'DIS', 'SAD', 'ANG', 'DIS', 'ANG', 'NEU', 'SAD', 'SAD', 'DIS', 'ANG', 'HAP', 'FEA', 'NEU', 'DIS', 'FEA', 'HAP', 'ANG', 'SAD', 'SAD', 'FEA', 'FEA', 'NEU', 'DIS', 'HAP', 'DIS', 'ANG', 'DIS', 'SAD', 'HAP', 'HAP', 'HAP', 'DIS', 'DIS', 'NEU', 'FEA', 'ANG', 'DIS', 'FEA', 'ANG', 'NEU', 'SAD', 'DIS', 'DIS', 'NEU', 'HAP', 'ANG', 'DIS', 'FEA', 'SAD', 'NEU', 'HAP', 'FEA', 'DIS', 'SAD', 'SAD', 'SAD', 'DIS', 'ANG', 'ANG', 'NEU', 'NEU', 'DIS', 'SAD', 'NEU', 'FEA', 'ANG', 'NEU', 'FEA', 'NEU', 'HAP', 'ANG', 'SAD', 'DIS', 'DIS', 'ANG', 'FEA', 'DIS', 'NEU', 'FEA', 'HAP', 'HAP', 'SAD', 'NEU', 'FEA', 'SAD', 'SAD', 'DIS', 'ANG', 'FEA', 'SAD', 'NEU', 'ANG', 'ANG', 'NEU', 'HAP', 'FEA', 'FEA', 'NEU', 'FEA', 'DIS', 'FEA', 'HAP', 'HAP', 'ANG', 'HAP', 'HAP', 'NEU', 'DIS', 'SAD', 'ANG', 'DIS', 'FEA', 'FEA', 'DIS', 'DIS', 'SAD', 'SAD', 'DIS', 'SAD', 'HAP', 'FEA', 'HAP', 'ANG', 'SAD', 'FEA', 'DIS', 'HAP', 'DIS', 'ANG', 'SAD', 'HAP', 'DIS', 'HAP', 'NEU', 'HAP', 'NEU', 'FEA', 'NEU', 'SAD', 'NEU', 'HAP', 'ANG', 'NEU', 'SAD', 'ANG', 'DIS', 'SAD', 'DIS', 'ANG', 'ANG', 'NEU', 'SAD', 'HAP', 'FEA', 'ANG', 'HAP', 'FEA', 'FEA', 'SAD', 'SAD', 'FEA', 'HAP', 'NEU', 'NEU', 'SAD', 'ANG', 'FEA', 'FEA', 'ANG', 'ANG', 'DIS', 'DIS', 'SAD', 'NEU', 'HAP', 'SAD', 'ANG', 'ANG', 'DIS', 'NEU', 'HAP', 'ANG', 'FEA', 'HAP', 'NEU', 'NEU', 'ANG', 'ANG', 'FEA', 'HAP', 'NEU', 'SAD', 'FEA', 'HAP', 'HAP', 'HAP', 'NEU', 'DIS', 'NEU', 'DIS', 'HAP', 'ANG', 'HAP', 'DIS', 'DIS', 'HAP', 'HAP', 'FEA', 'NEU', 'NEU', 'SAD', 'SAD', 'SAD', 'NEU', 'ANG', 'ANG', 'SAD', 'SAD', 'FEA', 'FEA', 'NEU', 'FEA', 'SAD', 'ANG', 'DIS', 'NEU', 'ANG', 'HAP', 'FEA', 'NEU', 'ANG', 'NEU', 'SAD', 'HAP', 'NEU', 'HAP', 'DIS', 'DIS', 'ANG', 'SAD', 'SAD', 'FEA', 'NEU', 'SAD', 'FEA', 'FEA', 'FEA', 'HAP', 'FEA', 'DIS', 'ANG', 'SAD', 'DIS', 'DIS', 'FEA', 'FEA', 'FEA', 'SAD', 'NEU', 'DIS', 'HAP', 'SAD', 'ANG', 'ANG', 'FEA', 'DIS', 'ANG', 'NEU', 'HAP', 'DIS', 'SAD', 'ANG', 'DIS', 'DIS', 'FEA', 'HAP', 'HAP', 'ANG', 'DIS', 'SAD', 'HAP', 'NEU', 'DIS', 'FEA', 'SAD', 'DIS', 'FEA', 'FEA', 'SAD', 'SAD', 'DIS', 'FEA', 'HAP', 'DIS', 'HAP', 'ANG', 'NEU', 'ANG', 'ANG', 'ANG', 'FEA', 'NEU', 'FEA', 'ANG', 'ANG', 'FEA', 'NEU', 'ANG', 'SAD', 'ANG', 'NEU', 'FEA', 'NEU', 'ANG', 'SAD', 'NEU', 'DIS', 'FEA', 'ANG', 'NEU', 'DIS', 'ANG', 'DIS', 'FEA', 'HAP', 'SAD', 'DIS', 'DIS', 'SAD', 'HAP', 'ANG', 'HAP', 'ANG', 'FEA', 'NEU', 'HAP', 'DIS', 'HAP', 'NEU', 'HAP', 'ANG', 'FEA', 'HAP', 'FEA', 'HAP', 'SAD', 'FEA', 'ANG', 'ANG', 'FEA', 'DIS', 'HAP', 'NEU', 'SAD', 'FEA', 'FEA', 'HAP', 'HAP', 'DIS', 'ANG', 'ANG', 'SAD', 'DIS', 'FEA', 'SAD', 'ANG', 'SAD', 'SAD', 'HAP', 'ANG', 'FEA', 'DIS', 'FEA', 'DIS', 'DIS', 'DIS', 'NEU', 'NEU', 'SAD', 'HAP', 'DIS', 'SAD', 'NEU', 'ANG', 'FEA', 'ANG', 'ANG', 'FEA', 'FEA', 'HAP', 'DIS', 'DIS', 'FEA', 'HAP', 'FEA', 'ANG', 'DIS', 'SAD', 'DIS', 'NEU', 'FEA', 'FEA', 'ANG', 'SAD', 'ANG', 'ANG', 'NEU', 'HAP', 'FEA', 'SAD', 'HAP', 'ANG', 'HAP', 'FEA', 'NEU', 'FEA', 'FEA', 'NEU', 'NEU', 'SAD', 'HAP', 'FEA', 'HAP', 'FEA', 'ANG', 'DIS', 'NEU', 'HAP', 'SAD', 'FEA', 'HAP', 'NEU', 'HAP', 'DIS', 'FEA', 'SAD', 'NEU', 'ANG', 'DIS', 'FEA', 'FEA', 'FEA', 'HAP', 'SAD', 'DIS', 'ANG', 'SAD', 'NEU', 'ANG', 'ANG', 'FEA', 'NEU', 'FEA', 'HAP', 'ANG', 'SAD', 'DIS', 'NEU', 'NEU', 'FEA', 'DIS', 'SAD', 'ANG', 'NEU', 'ANG', 'SAD', 'DIS', 'HAP', 'FEA', 'HAP', 'DIS', 'ANG', 'SAD', 'FEA', 'ANG', 'HAP', 'FEA', 'SAD', 'DIS', 'SAD', 'NEU', 'ANG', 'FEA', 'FEA', 'NEU', 'DIS', 'SAD', 'SAD', 'FEA', 'ANG', 'SAD', 'HAP', 'SAD', 'ANG', 'DIS', 'ANG', 'DIS', 'HAP', 'SAD', 'NEU', 'SAD', 'DIS', 'NEU', 'ANG', 'FEA', 'ANG', 'SAD', 'DIS', 'SAD', 'SAD', 'HAP', 'HAP', 'ANG', 'HAP', 'SAD', 'DIS', 'ANG', 'FEA', 'HAP', 'ANG', 'FEA', 'FEA', 'NEU', 'SAD', 'FEA', 'DIS', 'DIS', 'HAP', 'ANG', 'NEU', 'HAP', 'ANG', 'SAD', 'DIS', 'SAD', 'HAP', 'DIS', 'HAP', 'DIS', 'ANG', 'HAP', 'HAP', 'ANG', 'SAD', 'NEU', 'FEA', 'NEU', 'SAD', 'NEU', 'HAP', 'FEA', 'SAD', 'SAD', 'HAP', 'ANG', 'HAP', 'HAP', 'ANG', 'DIS', 'ANG', 'FEA', 'NEU', 'NEU', 'SAD', 'NEU', 'HAP', 'DIS', 'ANG', 'SAD', 'DIS', 'FEA', 'DIS', 'DIS', 'HAP', 'ANG', 'FEA', 'DIS', 'SAD', 'NEU', 'FEA', 'HAP', 'HAP', 'SAD', 'NEU', 'ANG', 'HAP', 'DIS', 'HAP', 'FEA', 'ANG', 'ANG', 'NEU', 'NEU', 'DIS', 'NEU', 'FEA', 'NEU', 'ANG', 'DIS', 'DIS', 'DIS', 'HAP', 'NEU', 'FEA', 'SAD', 'NEU', 'FEA', 'ANG', 'SAD', 'DIS', 'DIS', 'FEA', 'HAP', 'DIS', 'NEU', 'FEA', 'NEU', 'DIS', 'DIS', 'ANG', 'NEU', 'DIS', 'FEA', 'HAP', 'FEA', 'SAD', 'DIS', 'SAD', 'DIS', 'FEA', 'HAP', 'FEA', 'NEU', 'FEA', 'FEA', 'DIS', 'ANG', 'FEA', 'FEA', 'FEA', 'SAD', 'SAD', 'NEU', 'HAP', 'FEA', 'FEA', 'HAP', 'DIS', 'HAP', 'HAP', 'DIS', 'NEU', 'DIS', 'HAP', 'SAD', 'DIS', 'ANG', 'SAD', 'HAP', 'FEA', 'FEA', 'NEU', 'FEA', 'ANG', 'SAD', 'SAD', 'FEA', 'FEA', 'HAP', 'NEU', 'HAP', 'FEA', 'ANG', 'NEU', 'DIS', 'ANG', 'DIS', 'FEA', 'SAD', 'SAD', 'FEA', 'ANG', 'DIS', 'DIS', 'NEU', 'ANG', 'NEU', 'NEU', 'SAD', 'DIS', 'SAD', 'HAP', 'NEU', 'SAD', 'DIS', 'SAD', 'SAD', 'NEU', 'NEU', 'NEU', 'FEA', 'ANG', 'ANG', 'NEU', 'SAD', 'NEU', 'HAP', 'DIS', 'ANG', 'FEA', 'ANG', 'HAP', 'FEA', 'SAD', 'NEU', 'HAP', 'DIS', 'HAP', 'ANG', 'HAP', 'ANG', 'FEA', 'HAP', 'HAP', 'FEA', 'FEA', 'SAD', 'SAD', 'SAD', 'ANG', 'DIS', 'DIS', 'HAP', 'HAP', 'SAD', 'SAD', 'SAD', 'NEU', 'HAP', 'FEA', 'HAP', 'ANG', 'ANG', 'NEU', 'SAD', 'ANG', 'ANG', 'ANG', 'ANG', 'SAD', 'ANG', 'SAD', 'DIS', 'DIS', 'ANG', 'NEU', 'NEU', 'HAP', 'ANG', 'HAP', 'HAP', 'DIS', 'HAP', 'DIS', 'DIS', 'DIS', 'NEU', 'DIS', 'ANG', 'ANG', 'HAP', 'ANG', 'DIS', 'SAD', 'DIS', 'SAD', 'FEA', 'SAD', 'HAP', 'ANG', 'ANG', 'FEA', 'HAP', 'FEA', 'HAP', 'HAP', 'ANG', 'DIS', 'NEU', 'FEA', 'HAP', 'HAP', 'ANG', 'SAD', 'DIS', 'SAD', 'FEA', 'FEA', 'SAD', 'NEU', 'FEA', 'ANG', 'NEU', 'DIS', 'NEU', 'FEA', 'FEA', 'DIS', 'SAD', 'ANG', 'HAP', 'NEU', 'FEA', 'ANG', 'FEA', 'SAD', 'DIS', 'DIS', 'ANG', 'DIS', 'FEA', 'NEU', 'SAD', 'FEA', 'SAD', 'NEU', 'ANG', 'FEA', 'HAP', 'FEA', 'HAP', 'SAD', 'SAD', 'ANG', 'SAD', 'SAD', 'HAP', 'DIS', 'ANG', 'HAP', 'HAP', 'DIS', 'ANG', 'NEU', 'NEU', 'FEA', 'ANG', 'FEA', 'SAD', 'HAP', 'ANG', 'HAP', 'FEA', 'DIS', 'NEU', 'HAP', 'NEU', 'SAD', 'NEU', 'DIS', 'DIS', 'NEU', 'ANG', 'SAD', 'FEA', 'ANG', 'HAP', 'DIS', 'HAP', 'SAD', 'DIS', 'ANG', 'FEA', 'FEA', 'DIS', 'DIS', 'DIS', 'DIS', 'DIS', 'HAP', 'DIS', 'SAD', 'SAD', 'NEU', 'FEA', 'DIS', 'FEA', 'SAD', 'DIS', 'NEU', 'NEU', 'ANG', 'DIS', 'NEU', 'NEU', 'FEA', 'ANG', 'NEU', 'SAD', 'HAP', 'NEU', 'SAD', 'DIS', 'HAP', 'SAD', 'HAP', 'DIS', 'NEU', 'SAD', 'HAP', 'FEA', 'HAP', 'NEU', 'FEA', 'SAD', 'HAP', 'FEA', 'HAP', 'HAP', 'HAP', 'HAP', 'DIS', 'ANG', 'DIS', 'ANG', 'HAP', 'SAD', 'ANG', 'NEU', 'ANG', 'ANG', 'SAD', 'FEA', 'DIS', 'NEU', 'SAD', 'NEU', 'FEA', 'NEU', 'ANG', 'NEU', 'ANG', 'FEA', 'SAD', 'FEA', 'SAD', 'DIS', 'FEA', 'SAD', 'SAD', 'FEA', 'SAD', 'NEU', 'HAP', 'DIS', 'HAP', 'DIS', 'ANG', 'FEA', 'HAP', 'ANG', 'ANG', 'NEU', 'DIS', 'FEA', 'ANG', 'HAP', 'SAD', 'HAP', 'HAP', 'ANG', 'ANG', 'SAD', 'ANG', 'FEA', 'ANG', 'ANG', 'FEA', 'FEA', 'ANG', 'DIS', 'NEU', 'SAD', 'SAD', 'FEA', 'ANG', 'HAP', 'SAD', 'DIS', 'HAP', 'SAD', 'NEU', 'HAP', 'ANG', 'DIS', 'ANG', 'SAD', 'ANG', 'DIS', 'FEA', 'FEA', 'HAP', 'FEA', 'DIS', 'DIS', 'HAP', 'DIS', 'FEA', 'SAD', 'HAP', 'NEU', 'DIS', 'DIS', 'HAP', 'DIS', 'NEU', 'DIS', 'DIS', 'FEA', 'FEA', 'DIS', 'SAD', 'HAP', 'NEU', 'ANG', 'SAD', 'SAD', 'FEA', 'SAD', 'HAP', 'SAD', 'FEA', 'ANG', 'FEA', 'SAD', 'FEA', 'FEA', 'FEA', 'FEA', 'FEA', 'NEU', 'DIS', 'ANG', 'DIS', 'NEU', 'ANG', 'HAP', 'NEU', 'HAP', 'NEU', 'DIS', 'NEU', 'NEU', 'SAD', 'ANG', 'NEU', 'DIS', 'DIS', 'SAD', 'NEU', 'NEU', 'HAP', 'ANG', 'SAD', 'HAP', 'ANG', 'SAD', 'SAD', 'HAP', 'SAD', 'HAP', 'FEA', 'SAD', 'DIS', 'DIS', 'FEA', 'SAD', 'DIS', 'SAD', 'NEU', 'ANG', 'SAD', 'NEU', 'HAP', 'DIS', 'DIS', 'HAP', 'NEU', 'ANG', 'DIS', 'FEA', 'FEA', 'NEU', 'ANG', 'ANG', 'HAP', 'HAP', 'HAP', 'FEA', 'FEA', 'HAP', 'ANG', 'ANG', 'DIS', 'NEU', 'ANG', 'FEA', 'ANG', 'FEA', 'HAP', 'ANG', 'NEU', 'HAP', 'ANG', 'NEU', 'DIS', 'NEU', 'FEA', 'ANG', 'ANG', 'SAD', 'NEU', 'HAP', 'ANG', 'HAP', 'SAD', 'NEU', 'NEU', 'ANG', 'SAD', 'DIS', 'ANG', 'ANG', 'FEA', 'FEA', 'SAD', 'SAD', 'SAD', 'HAP', 'DIS', 'SAD', 'FEA', 'ANG', 'DIS', 'NEU', 'FEA', 'NEU', 'FEA', 'HAP', 'ANG', 'DIS', 'FEA', 'DIS', 'SAD', 'HAP', 'SAD', 'ANG', 'NEU', 'HAP', 'HAP', 'DIS', 'HAP', 'FEA', 'HAP', 'HAP', 'SAD', 'ANG', 'DIS', 'ANG', 'ANG', 'DIS', 'NEU', 'FEA', 'DIS', 'HAP', 'NEU', 'SAD', 'DIS', 'DIS', 'HAP', 'SAD', 'SAD', 'FEA', 'DIS', 'ANG', 'NEU', 'NEU', 'SAD', 'ANG', 'DIS', 'FEA', 'DIS', 'NEU', 'HAP', 'FEA', 'NEU', 'ANG', 'SAD', 'ANG', 'FEA', 'ANG', 'NEU', 'HAP', 'NEU', 'FEA', 'NEU', 'SAD', 'SAD', 'FEA', 'FEA', 'FEA', 'DIS', 'NEU', 'DIS', 'HAP', 'ANG', 'SAD', 'ANG', 'SAD', 'HAP', 'DIS', 'ANG', 'ANG', 'SAD', 'HAP', 'HAP', 'FEA', 'ANG', 'FEA', 'FEA', 'FEA', 'HAP', 'SAD', 'HAP', 'FEA', 'SAD', 'DIS', 'DIS', 'ANG', 'DIS', 'HAP', 'HAP', 'FEA', 'HAP', 'FEA', 'DIS', 'ANG', 'DIS', 'DIS', 'HAP', 'FEA', 'DIS', 'ANG', 'DIS', 'NEU', 'DIS', 'FEA', 'ANG', 'NEU', 'SAD', 'FEA', 'DIS', 'DIS', 'NEU', 'NEU', 'NEU', 'DIS', 'ANG', 'FEA', 'ANG', 'DIS', 'FEA', 'HAP', 'DIS', 'NEU', 'ANG', 'DIS', 'HAP', 'HAP', 'HAP', 'DIS', 'HAP', 'ANG', 'NEU', 'FEA', 'NEU', 'DIS', 'NEU', 'HAP', 'DIS', 'NEU', 'FEA', 'ANG', 'SAD', 'NEU', 'ANG', 'ANG', 'ANG', 'ANG', 'FEA', 'HAP', 'SAD', 'ANG', 'NEU', 'ANG', 'FEA', 'FEA', 'FEA', 'FEA', 'DIS', 'HAP', 'HAP', 'FEA', 'NEU', 'DIS', 'SAD', 'NEU', 'HAP', 'NEU', 'HAP', 'FEA', 'HAP', 'DIS', 'ANG', 'FEA', 'DIS', 'ANG', 'NEU', 'NEU', 'SAD', 'ANG', 'NEU', 'DIS', 'FEA', 'HAP', 'ANG', 'HAP', 'SAD', 'NEU', 'FEA', 'HAP', 'NEU', 'DIS', 'DIS', 'NEU', 'SAD', 'SAD', 'SAD', 'DIS', 'HAP', 'FEA', 'DIS', 'FEA', 'DIS', 'SAD', 'DIS', 'ANG', 'ANG', 'NEU', 'HAP', 'HAP', 'ANG', 'ANG', 'DIS', 'ANG', 'HAP', 'ANG', 'NEU', 'SAD', 'NEU', 'FEA', 'DIS', 'DIS', 'ANG', 'ANG', 'HAP', 'FEA', 'HAP', 'ANG', 'ANG', 'FEA', 'SAD', 'HAP', 'HAP', 'SAD', 'SAD', 'FEA', 'DIS', 'HAP', 'DIS', 'ANG', 'SAD', 'HAP', 'SAD', 'FEA', 'ANG', 'FEA', 'SAD', 'FEA', 'FEA', 'SAD', 'HAP', 'NEU', 'FEA', 'HAP', 'SAD', 'FEA', 'DIS', 'HAP', 'FEA', 'SAD', 'ANG', 'NEU', 'DIS', 'NEU', 'DIS', 'FEA', 'ANG', 'HAP', 'SAD', 'NEU', 'DIS', 'DIS', 'HAP', 'HAP', 'SAD', 'FEA', 'ANG', 'SAD', 'FEA', 'FEA', 'FEA', 'DIS', 'NEU', 'SAD', 'DIS', 'ANG', 'FEA', 'NEU', 'DIS', 'FEA', 'SAD', 'ANG', 'HAP', 'DIS', 'DIS', 'SAD', 'HAP', 'ANG', 'NEU', 'DIS', 'ANG', 'ANG', 'FEA', 'HAP', 'DIS', 'DIS', 'ANG', 'DIS', 'NEU', 'SAD', 'NEU', 'DIS', 'SAD', 'HAP', 'ANG', 'NEU', 'HAP', 'HAP', 'HAP', 'NEU', 'NEU', 'SAD', 'NEU', 'HAP', 'SAD', 'FEA', 'DIS', 'ANG', 'SAD', 'ANG', 'SAD', 'FEA', 'ANG', 'SAD', 'ANG', 'HAP', 'DIS', 'FEA', 'DIS', 'FEA', 'SAD', 'DIS', 'ANG', 'HAP', 'SAD', 'FEA', 'SAD', 'SAD', 'ANG', 'NEU', 'ANG', 'HAP', 'HAP', 'SAD', 'HAP', 'SAD', 'DIS', 'ANG', 'FEA', 'HAP', 'FEA', 'NEU', 'HAP', 'HAP', 'ANG', 'HAP', 'HAP', 'NEU', 'ANG', 'SAD', 'FEA', 'DIS', 'HAP', 'NEU', 'FEA', 'DIS', 'DIS', 'HAP', 'FEA', 'FEA', 'ANG', 'SAD', 'SAD', 'FEA', 'NEU', 'ANG', 'HAP', 'ANG', 'DIS', 'DIS', 'FEA', 'DIS', 'FEA', 'DIS', 'ANG', 'NEU', 'HAP', 'FEA', 'DIS', 'NEU', 'ANG', 'SAD', 'ANG', 'SAD', 'ANG', 'FEA', 'ANG', 'DIS', 'DIS', 'HAP', 'ANG', 'DIS', 'SAD', 'ANG', 'FEA', 'NEU', 'HAP', 'DIS', 'SAD', 'FEA', 'FEA', 'ANG', 'FEA', 'DIS', 'FEA', 'ANG', 'SAD', 'SAD', 'NEU', 'ANG', 'HAP', 'HAP', 'HAP', 'FEA', 'ANG', 'DIS', 'SAD', 'SAD', 'HAP', 'FEA', 'NEU', 'SAD', 'HAP', 'DIS', 'NEU', 'SAD', 'FEA', 'DIS', 'ANG', 'HAP', 'FEA', 'NEU', 'DIS', 'FEA', 'ANG', 'SAD', 'NEU', 'NEU', 'FEA', 'FEA', 'DIS', 'FEA', 'ANG', 'FEA', 'NEU', 'NEU', 'NEU', 'DIS', 'DIS', 'NEU', 'NEU', 'DIS', 'HAP', 'NEU', 'ANG', 'DIS', 'SAD', 'NEU', 'HAP', 'ANG', 'SAD', 'ANG', 'HAP', 'DIS', 'ANG', 'NEU', 'SAD', 'SAD', 'DIS', 'HAP', 'FEA', 'SAD', 'HAP', 'NEU', 'HAP', 'SAD', 'SAD', 'ANG', 'HAP', 'ANG', 'SAD', 'SAD', 'SAD', 'SAD', 'NEU', 'HAP', 'HAP', 'NEU', 'ANG', 'NEU', 'ANG', 'NEU', 'SAD', 'HAP', 'FEA', 'FEA', 'DIS', 'SAD', 'NEU', 'FEA', 'DIS', 'FEA', 'ANG', 'ANG', 'SAD', 'HAP', 'DIS', 'NEU', 'DIS', 'DIS', 'NEU', 'DIS', 'HAP', 'SAD', 'ANG', 'ANG', 'HAP', 'SAD', 'DIS', 'NEU', 'SAD', 'HAP', 'DIS', 'SAD', 'FEA', 'DIS', 'NEU', 'ANG', 'HAP', 'SAD', 'FEA', 'HAP', 'ANG', 'NEU', 'DIS', 'ANG', 'HAP', 'DIS', 'ANG', 'NEU', 'NEU', 'NEU', 'NEU', 'DIS', 'FEA', 'ANG', 'ANG', 'ANG', 'SAD', 'DIS', 'SAD', 'SAD', 'ANG', 'NEU', 'NEU', 'DIS', 'HAP', 'FEA', 'SAD', 'DIS', 'DIS', 'ANG', 'NEU', 'FEA', 'HAP', 'FEA', 'FEA', 'FEA', 'HAP', 'NEU', 'SAD', 'HAP', 'ANG', 'HAP', 'SAD', 'ANG', 'ANG', 'HAP', 'FEA', 'DIS', 'FEA', 'FEA', 'DIS', 'HAP', 'SAD', 'HAP', 'FEA', 'ANG', 'DIS', 'ANG', 'FEA', 'SAD', 'HAP', 'FEA', 'FEA', 'SAD', 'FEA', 'ANG', 'HAP', 'ANG', 'FEA', 'ANG', 'DIS', 'HAP', 'ANG', 'DIS', 'NEU', 'FEA', 'SAD', 'SAD', 'ANG', 'DIS', 'HAP', 'SAD', 'NEU', 'SAD', 'NEU', 'ANG', 'FEA', 'SAD', 'HAP', 'DIS', 'DIS', 'NEU', 'FEA', 'SAD', 'DIS', 'NEU', 'ANG', 'NEU', 'FEA', 'ANG', 'DIS', 'SAD', 'NEU', 'FEA', 'NEU', 'SAD', 'ANG', 'NEU', 'ANG', 'SAD', 'DIS', 'ANG', 'DIS', 'ANG', 'ANG', 'SAD', 'FEA', 'ANG', 'DIS', 'FEA', 'SAD', 'NEU', 'FEA', 'DIS', 'HAP', 'HAP', 'HAP', 'DIS', 'HAP', 'DIS', 'SAD', 'NEU', 'SAD', 'FEA', 'HAP', 'DIS', 'DIS', 'SAD', 'HAP', 'DIS', 'HAP', 'HAP', 'FEA', 'FEA', 'FEA', 'SAD', 'SAD', 'HAP', 'SAD', 'FEA', 'NEU', 'NEU', 'ANG', 'HAP', 'FEA', 'DIS', 'NEU', 'HAP', 'FEA', 'FEA', 'SAD', 'DIS', 'HAP', 'NEU', 'DIS', 'ANG', 'FEA', 'ANG', 'HAP', 'NEU', 'NEU', 'SAD', 'HAP', 'ANG', 'DIS', 'NEU', 'SAD', 'HAP', 'HAP', 'HAP', 'SAD', 'SAD', 'ANG', 'FEA', 'NEU', 'HAP', 'FEA', 'NEU', 'NEU', 'ANG', 'ANG', 'DIS', 'DIS', 'DIS', 'DIS', 'HAP', 'NEU', 'FEA', 'DIS', 'ANG', 'NEU', 'ANG', 'FEA', 'FEA', 'DIS', 'SAD', 'ANG', 'SAD', 'ANG', 'DIS', 'DIS', 'ANG', 'ANG', 'SAD', 'NEU', 'NEU', 'FEA', 'FEA', 'FEA', 'SAD', 'ANG', 'HAP', 'FEA', 'NEU', 'FEA', 'SAD', 'NEU', 'NEU', 'SAD', 'SAD', 'DIS', 'FEA', 'ANG', 'ANG', 'HAP', 'NEU', 'FEA', 'ANG', 'ANG', 'FEA', 'NEU', 'ANG', 'DIS', 'HAP', 'SAD', 'NEU', 'ANG', 'FEA', 'HAP', 'HAP', 'HAP', 'NEU', 'FEA', 'ANG', 'NEU', 'DIS', 'HAP', 'SAD', 'SAD', 'DIS', 'HAP', 'SAD', 'SAD', 'NEU', 'FEA', 'FEA', 'SAD', 'DIS', 'NEU', 'ANG', 'DIS', 'ANG', 'DIS', 'ANG', 'NEU', 'DIS', 'ANG', 'NEU', 'HAP', 'SAD', 'HAP', 'ANG', 'SAD', 'SAD', 'DIS', 'FEA', 'HAP', 'DIS', 'SAD', 'DIS', 'ANG', 'NEU', 'ANG', 'HAP', 'ANG', 'NEU', 'FEA', 'HAP', 'HAP', 'SAD', 'HAP', 'DIS', 'SAD', 'SAD', 'SAD', 'DIS', 'SAD', 'HAP', 'DIS', 'FEA', 'DIS', 'FEA', 'DIS', 'FEA', 'FEA', 'HAP', 'SAD', 'DIS', 'NEU', 'FEA', 'SAD', 'ANG', 'FEA', 'DIS', 'HAP', 'HAP', 'HAP', 'HAP', 'HAP', 'FEA', 'SAD', 'DIS', 'DIS', 'SAD', 'SAD', 'HAP', 'DIS', 'SAD', 'SAD', 'FEA', 'NEU', 'FEA', 'NEU', 'FEA', 'NEU', 'ANG', 'NEU', 'SAD', 'NEU', 'HAP', 'DIS', 'ANG', 'ANG', 'HAP', 'DIS', 'SAD', 'DIS', 'DIS', 'DIS', 'SAD', 'HAP', 'NEU', 'ANG', 'NEU', 'HAP', 'FEA', 'NEU', 'NEU', 'FEA', 'HAP', 'SAD', 'HAP', 'HAP', 'FEA', 'NEU', 'DIS', 'HAP', 'ANG', 'DIS', 'SAD', 'NEU', 'SAD', 'DIS', 'HAP', 'FEA', 'SAD', 'NEU', 'FEA', 'NEU', 'ANG', 'SAD', 'SAD', 'SAD', 'DIS', 'SAD', 'ANG', 'DIS', 'ANG', 'ANG', 'ANG', 'NEU', 'NEU', 'HAP', 'SAD', 'SAD', 'SAD', 'ANG', 'FEA', 'FEA', 'HAP', 'ANG', 'SAD', 'SAD', 'ANG', 'HAP', 'SAD', 'ANG', 'FEA', 'FEA', 'NEU', 'FEA', 'FEA', 'ANG', 'NEU', 'FEA', 'SAD', 'HAP', 'DIS', 'ANG', 'FEA', 'HAP', 'ANG', 'DIS', 'FEA', 'FEA', 'ANG', 'DIS', 'DIS', 'NEU', 'SAD', 'HAP', 'DIS', 'SAD', 'FEA', 'DIS', 'DIS', 'ANG', 'HAP', 'NEU', 'ANG', 'HAP', 'ANG', 'HAP', 'SAD', 'ANG', 'FEA', 'DIS', 'FEA', 'HAP', 'ANG', 'NEU', 'SAD', 'ANG', 'SAD', 'ANG', 'NEU', 'ANG', 'DIS', 'HAP', 'HAP', 'HAP', 'DIS', 'NEU', 'HAP', 'HAP', 'ANG', 'HAP', 'NEU', 'HAP', 'ANG', 'ANG', 'FEA', 'SAD', 'HAP', 'FEA', 'ANG', 'ANG', 'FEA', 'DIS', 'FEA', 'NEU', 'NEU', 'DIS', 'HAP', 'SAD', 'HAP', 'FEA', 'SAD', 'DIS', 'SAD', 'SAD', 'DIS', 'DIS', 'FEA', 'HAP', 'FEA', 'FEA', 'FEA', 'NEU', 'SAD', 'FEA', 'DIS', 'HAP', 'DIS', 'DIS', 'DIS', 'DIS', 'FEA', 'ANG', 'NEU', 'FEA', 'HAP', 'ANG', 'ANG', 'SAD', 'SAD', 'SAD', 'DIS', 'NEU', 'SAD', 'HAP', 'SAD', 'HAP', 'DIS', 'SAD', 'DIS', 'SAD', 'SAD', 'ANG', 'ANG', 'FEA', 'FEA', 'HAP', 'NEU', 'NEU', 'FEA', 'NEU', 'SAD', 'ANG', 'NEU', 'NEU', 'NEU', 'SAD', 'FEA', 'SAD', 'DIS', 'SAD', 'ANG', 'HAP', 'DIS', 'SAD', 'DIS', 'ANG', 'FEA', 'HAP', 'NEU', 'NEU', 'ANG', 'DIS', 'DIS', 'NEU', 'HAP', 'ANG', 'ANG', 'ANG', 'NEU', 'HAP', 'DIS', 'DIS', 'DIS', 'HAP', 'HAP', 'HAP', 'NEU', 'SAD', 'DIS', 'SAD', 'FEA', 'HAP', 'HAP', 'DIS', 'SAD', 'DIS', 'FEA', 'HAP', 'NEU', 'SAD', 'DIS', 'FEA', 'HAP', 'NEU', 'SAD', 'HAP', 'HAP', 'HAP', 'HAP', 'ANG', 'ANG', 'ANG', 'HAP', 'ANG', 'SAD', 'ANG', 'ANG', 'DIS', 'FEA', 'HAP', 'DIS', 'DIS', 'SAD', 'HAP', 'SAD', 'SAD', 'NEU', 'SAD', 'NEU', 'ANG', 'SAD', 'ANG', 'HAP', 'SAD', 'SAD', 'HAP', 'FEA', 'ANG', 'DIS', 'HAP', 'DIS', 'NEU', 'ANG', 'ANG', 'SAD', 'HAP', 'NEU', 'HAP', 'FEA', 'DIS', 'FEA', 'ANG', 'ANG', 'NEU', 'ANG', 'SAD', 'SAD', 'SAD', 'SAD', 'SAD', 'ANG', 'HAP', 'HAP', 'FEA', 'NEU', 'SAD', 'FEA', 'FEA', 'FEA', 'HAP', 'SAD', 'NEU', 'FEA', 'DIS', 'DIS', 'SAD', 'NEU', 'SAD', 'FEA', 'SAD', 'NEU', 'HAP', 'SAD', 'FEA', 'NEU', 'DIS', 'HAP', 'FEA', 'FEA', 'DIS', 'NEU', 'SAD', 'SAD', 'FEA', 'NEU', 'DIS', 'ANG', 'DIS', 'NEU', 'FEA', 'DIS', 'NEU', 'ANG', 'FEA', 'ANG', 'HAP', 'ANG', 'SAD', 'NEU', 'SAD', 'ANG', 'SAD', 'NEU', 'HAP', 'HAP', 'ANG', 'DIS', 'FEA', 'DIS', 'ANG', 'ANG', 'HAP', 'ANG', 'DIS', 'ANG', 'NEU', 'HAP', 'FEA', 'DIS', 'NEU', 'SAD', 'NEU', 'HAP', 'NEU', 'FEA', 'HAP', 'DIS', 'SAD', 'FEA', 'DIS', 'HAP', 'SAD', 'ANG', 'HAP', 'ANG', 'DIS', 'DIS', 'FEA', 'FEA', 'DIS', 'SAD', 'ANG', 'FEA', 'ANG', 'FEA', 'HAP', 'FEA', 'NEU', 'HAP', 'NEU', 'FEA', 'HAP', 'HAP', 'NEU', 'SAD', 'SAD', 'NEU', 'SAD', 'FEA', 'SAD', 'SAD', 'DIS', 'HAP', 'FEA', 'DIS', 'SAD', 'HAP', 'HAP', 'SAD', 'HAP', 'HAP', 'NEU', 'SAD', 'FEA', 'DIS', 'ANG', 'HAP', 'SAD', 'DIS', 'NEU', 'ANG', 'SAD', 'DIS', 'DIS', 'HAP', 'NEU', 'DIS', 'SAD', 'FEA', 'SAD', 'FEA', 'DIS', 'NEU', 'SAD', 'FEA', 'ANG', 'ANG', 'DIS', 'HAP', 'HAP', 'NEU', 'HAP', 'SAD', 'FEA', 'SAD', 'FEA', 'ANG', 'FEA', 'DIS', 'FEA', 'DIS', 'DIS', 'DIS', 'SAD', 'HAP', 'ANG', 'ANG', 'ANG', 'ANG', 'SAD', 'DIS', 'HAP', 'DIS', 'ANG', 'NEU', 'NEU', 'NEU', 'FEA', 'SAD', 'NEU', 'FEA', 'NEU', 'HAP', 'NEU', 'FEA', 'DIS', 'SAD', 'HAP', 'DIS', 'ANG', 'ANG', 'NEU', 'ANG', 'FEA', 'FEA', 'ANG', 'ANG', 'NEU', 'FEA', 'SAD', 'FEA', 'DIS', 'HAP', 'SAD', 'NEU', 'DIS', 'FEA', 'ANG', 'DIS', 'SAD', 'NEU', 'SAD', 'NEU', 'HAP', 'HAP', 'NEU', 'ANG', 'FEA', 'NEU', 'NEU', 'ANG', 'SAD', 'FEA', 'HAP', 'FEA', 'HAP', 'ANG', 'HAP', 'FEA', 'ANG', 'HAP', 'SAD', 'NEU', 'FEA', 'SAD', 'SAD', 'DIS', 'HAP', 'SAD', 'FEA', 'ANG', 'NEU', 'SAD', 'FEA', 'DIS', 'FEA', 'NEU', 'FEA', 'DIS', 'FEA', 'FEA', 'DIS', 'DIS', 'FEA', 'FEA', 'DIS', 'FEA', 'NEU', 'NEU', 'ANG', 'HAP', 'NEU', 'ANG', 'SAD', 'HAP', 'FEA', 'HAP', 'FEA', 'NEU', 'FEA', 'DIS', 'ANG', 'NEU', 'ANG', 'DIS', 'HAP', 'FEA', 'SAD', 'NEU', 'HAP', 'DIS', 'FEA', 'SAD', 'FEA', 'ANG', 'ANG', 'DIS', 'NEU', 'SAD', 'NEU', 'FEA', 'DIS', 'NEU', 'ANG', 'ANG', 'DIS', 'ANG', 'HAP', 'ANG', 'NEU', 'DIS', 'DIS', 'NEU', 'DIS', 'SAD', 'FEA', 'SAD', 'FEA', 'FEA', 'HAP', 'NEU', 'ANG', 'ANG', 'DIS', 'SAD', 'DIS', 'HAP', 'SAD', 'ANG', 'SAD', 'SAD', 'ANG', 'ANG', 'ANG', 'NEU', 'ANG', 'DIS', 'DIS', 'SAD', 'DIS', 'FEA', 'SAD', 'DIS', 'HAP', 'DIS', 'DIS', 'FEA', 'HAP', 'FEA', 'DIS', 'NEU', 'SAD', 'NEU', 'HAP', 'ANG', 'ANG', 'HAP', 'ANG', 'HAP', 'ANG', 'SAD', 'ANG', 'SAD', 'DIS', 'HAP', 'SAD', 'HAP', 'HAP', 'NEU', 'HAP', 'ANG', 'HAP', 'SAD', 'FEA', 'SAD', 'HAP', 'NEU', 'FEA', 'SAD', 'ANG', 'HAP', 'HAP', 'DIS', 'HAP', 'ANG', 'DIS', 'DIS', 'ANG', 'FEA', 'HAP', 'DIS', 'DIS', 'HAP', 'SAD', 'NEU', 'ANG', 'SAD', 'SAD', 'SAD', 'SAD', 'ANG', 'SAD', 'NEU', 'HAP', 'DIS', 'NEU', 'SAD', 'DIS', 'HAP', 'HAP', 'FEA', 'FEA', 'FEA', 'ANG', 'SAD', 'HAP', 'ANG', 'HAP', 'NEU', 'DIS', 'FEA', 'HAP', 'DIS', 'FEA', 'FEA', 'SAD', 'NEU', 'DIS', 'HAP', 'NEU', 'ANG', 'SAD', 'NEU', 'NEU', 'FEA', 'DIS', 'NEU', 'ANG', 'FEA', 'NEU', 'NEU', 'FEA', 'DIS', 'DIS', 'HAP', 'HAP', 'SAD', 'SAD', 'ANG', 'DIS', 'HAP', 'SAD', 'DIS', 'SAD', 'HAP', 'HAP', 'SAD', 'HAP', 'HAP', 'ANG', 'SAD', 'NEU', 'FEA', 'HAP', 'FEA', 'NEU', 'DIS', 'SAD', 'HAP', 'DIS', 'ANG', 'NEU', 'DIS', 'DIS', 'FEA', 'HAP', 'ANG', 'ANG', 'SAD', 'NEU', 'FEA', 'ANG', 'ANG', 'FEA', 'DIS', 'FEA', 'ANG', 'HAP', 'SAD', 'FEA', 'SAD', 'NEU', 'NEU', 'NEU', 'NEU', 'NEU', 'ANG', 'FEA', 'SAD', 'DIS', 'FEA', 'SAD', 'FEA', 'ANG', 'SAD', 'DIS', 'ANG', 'ANG', 'SAD', 'FEA', 'NEU', 'FEA', 'HAP', 'ANG', 'FEA', 'SAD', 'HAP', 'FEA', 'SAD', 'HAP', 'HAP', 'FEA', 'DIS', 'DIS', 'NEU', 'SAD', 'HAP', 'DIS', 'DIS', 'ANG', 'ANG', 'SAD', 'FEA', 'DIS', 'DIS', 'FEA', 'DIS', 'ANG', 'SAD', 'NEU', 'HAP', 'HAP', 'FEA', 'DIS', 'HAP', 'HAP', 'SAD', 'ANG', 'SAD', 'FEA', 'ANG', 'HAP', 'ANG', 'SAD', 'HAP', 'ANG', 'NEU', 'HAP', 'NEU', 'ANG', 'ANG', 'NEU', 'ANG', 'HAP', 'HAP', 'DIS', 'SAD', 'SAD', 'DIS', 'NEU', 'FEA', 'NEU', 'DIS', 'DIS', 'FEA', 'ANG', 'DIS', 'DIS', 'SAD', 'FEA', 'FEA', 'SAD', 'SAD', 'NEU', 'HAP', 'SAD', 'ANG', 'SAD', 'HAP', 'SAD', 'DIS', 'SAD', 'HAP', 'HAP', 'ANG', 'SAD', 'NEU', 'FEA', 'NEU', 'DIS', 'FEA', 'SAD', 'DIS', 'FEA', 'FEA', 'DIS', 'HAP', 'DIS', 'FEA', 'ANG', 'FEA', 'SAD', 'HAP', 'NEU', 'DIS', 'HAP', 'ANG', 'NEU', 'NEU', 'HAP', 'FEA', 'DIS', 'NEU', 'ANG', 'DIS', 'DIS', 'HAP', 'DIS', 'ANG', 'SAD', 'HAP', 'ANG', 'HAP', 'NEU', 'ANG', 'SAD', 'SAD', 'NEU', 'DIS', 'FEA', 'SAD', 'ANG', 'HAP', 'NEU', 'HAP', 'HAP', 'ANG', 'ANG', 'FEA', 'SAD', 'NEU', 'SAD', 'ANG', 'NEU', 'FEA', 'HAP', 'ANG', 'HAP', 'HAP', 'HAP', 'ANG', 'FEA', 'FEA', 'SAD', 'NEU', 'NEU', 'ANG', 'HAP', 'DIS', 'ANG', 'HAP', 'FEA', 'SAD', 'DIS', 'FEA', 'DIS', 'ANG', 'DIS', 'FEA', 'SAD', 'DIS', 'DIS', 'DIS', 'FEA', 'FEA', 'NEU', 'NEU', 'NEU', 'FEA', 'NEU', 'FEA', 'DIS', 'HAP', 'ANG', 'SAD', 'ANG', 'ANG', 'FEA', 'SAD', 'SAD', 'DIS', 'FEA', 'FEA', 'SAD', 'ANG', 'NEU', 'DIS', 'SAD', 'ANG', 'ANG', 'SAD', 'ANG', 'HAP', 'HAP', 'FEA', 'SAD', 'FEA', 'HAP', 'ANG', 'HAP', 'FEA', 'FEA', 'NEU', 'SAD', 'NEU', 'FEA', 'NEU', 'NEU', 'ANG', 'ANG', 'DIS', 'HAP', 'SAD', 'SAD', 'SAD', 'NEU', 'DIS', 'DIS', 'NEU', 'SAD', 'DIS', 'SAD', 'ANG', 'FEA', 'NEU', 'DIS', 'ANG', 'DIS', 'FEA', 'DIS', 'HAP', 'ANG', 'HAP', 'DIS', 'FEA', 'HAP', 'HAP', 'DIS', 'DIS', 'HAP', 'DIS', 'SAD', 'NEU', 'ANG', 'ANG', 'FEA', 'SAD', 'FEA', 'ANG', 'NEU', 'HAP', 'SAD', 'ANG', 'DIS', 'FEA', 'DIS', 'FEA', 'ANG', 'HAP', 'HAP', 'DIS', 'FEA', 'NEU', 'SAD', 'ANG', 'SAD', 'HAP', 'FEA', 'SAD', 'HAP', 'HAP', 'SAD', 'ANG', 'NEU', 'HAP', 'ANG', 'FEA', 'HAP', 'ANG', 'SAD', 'FEA', 'HAP', 'ANG', 'DIS', 'NEU', 'FEA', 'DIS', 'DIS', 'FEA', 'ANG', 'FEA', 'DIS', 'SAD', 'HAP', 'SAD', 'NEU', 'DIS', 'NEU', 'FEA', 'FEA', 'FEA', 'FEA', 'DIS', 'NEU', 'DIS', 'DIS', 'FEA', 'DIS', 'SAD', 'ANG', 'DIS', 'HAP', 'DIS', 'NEU', 'SAD', 'DIS', 'ANG', 'NEU', 'HAP', 'ANG', 'SAD', 'NEU', 'FEA', 'HAP', 'SAD', 'NEU', 'SAD', 'NEU', 'NEU', 'FEA', 'SAD', 'ANG', 'NEU', 'ANG', 'FEA', 'FEA', 'HAP', 'NEU', 'DIS', 'ANG', 'FEA', 'ANG', 'SAD', 'SAD', 'DIS', 'DIS', 'ANG', 'HAP', 'DIS', 'HAP', 'FEA', 'ANG', 'HAP', 'FEA', 'NEU', 'SAD', 'FEA', 'ANG', 'NEU', 'DIS', 'DIS', 'DIS', 'NEU', 'HAP', 'NEU', 'FEA', 'DIS', 'ANG', 'HAP', 'FEA', 'HAP', 'ANG', 'HAP', 'HAP', 'SAD', 'ANG', 'HAP', 'ANG', 'FEA', 'ANG', 'ANG', 'ANG', 'ANG', 'HAP', 'SAD', 'NEU', 'FEA', 'HAP', 'NEU', 'HAP', 'DIS', 'NEU', 'DIS', 'ANG', 'FEA', 'ANG', 'DIS', 'HAP', 'SAD', 'SAD', 'DIS', 'FEA', 'SAD', 'DIS', 'ANG', 'DIS', 'HAP', 'SAD', 'DIS', 'SAD', 'NEU', 'HAP', 'HAP', 'SAD', 'SAD', 'SAD', 'DIS', 'SAD', 'HAP', 'FEA', 'NEU', 'SAD', 'SAD', 'HAP', 'ANG', 'ANG', 'NEU', 'NEU', 'FEA', 'FEA', 'SAD', 'NEU', 'NEU', 'ANG', 'SAD', 'ANG', 'HAP', 'FEA', 'DIS', 'SAD', 'DIS', 'DIS', 'ANG', 'DIS', 'ANG', 'NEU', 'FEA', 'SAD', 'ANG', 'ANG', 'DIS', 'SAD', 'NEU', 'NEU', 'SAD', 'ANG', 'HAP', 'ANG', 'ANG', 'DIS', 'SAD', 'ANG', 'FEA', 'HAP', 'SAD', 'NEU', 'FEA', 'DIS', 'FEA', 'NEU', 'ANG', 'ANG', 'ANG', 'SAD', 'HAP', 'SAD', 'NEU', 'SAD', 'FEA', 'DIS', 'NEU', 'NEU', 'FEA', 'HAP', 'FEA', 'DIS', 'FEA', 'FEA', 'NEU', 'ANG', 'ANG', 'FEA', 'FEA', 'NEU', 'FEA', 'FEA', 'HAP', 'FEA', 'DIS', 'DIS', 'NEU', 'FEA', 'HAP', 'SAD', 'SAD', 'DIS', 'SAD', 'DIS', 'DIS', 'FEA', 'FEA', 'ANG', 'SAD', 'FEA', 'HAP', 'FEA', 'SAD', 'DIS', 'NEU', 'DIS', 'HAP', 'DIS', 'ANG', 'NEU', 'DIS', 'FEA', 'FEA', 'FEA', 'FEA', 'SAD', 'ANG', 'SAD', 'HAP', 'DIS', 'DIS', 'ANG', 'DIS', 'HAP', 'HAP', 'ANG', 'NEU', 'ANG', 'SAD', 'HAP', 'ANG', 'SAD', 'ANG', 'DIS', 'SAD', 'SAD', 'HAP', 'HAP', 'FEA', 'NEU', 'NEU', 'HAP', 'NEU', 'DIS', 'HAP', 'FEA', 'FEA', 'SAD', 'HAP', 'ANG', 'DIS', 'NEU', 'NEU', 'NEU', 'ANG', 'SAD', 'NEU', 'NEU', 'DIS', 'HAP', 'DIS', 'HAP', 'NEU', 'ANG', 'HAP', 'FEA', 'ANG', 'ANG', 'DIS', 'ANG', 'DIS', 'ANG', 'SAD', 'ANG', 'SAD', 'HAP', 'NEU', 'SAD', 'DIS', 'ANG', 'FEA', 'FEA', 'FEA', 'SAD', 'ANG', 'HAP', 'SAD', 'FEA', 'ANG', 'NEU', 'FEA', 'SAD', 'DIS', 'HAP', 'NEU', 'DIS', 'DIS', 'HAP', 'HAP', 'SAD', 'SAD', 'HAP', 'SAD', 'FEA', 'DIS', 'NEU', 'ANG', 'HAP', 'ANG', 'ANG', 'SAD', 'NEU', 'SAD', 'ANG', 'SAD', 'HAP', 'DIS', 'DIS', 'ANG', 'ANG', 'HAP', 'FEA', 'DIS', 'SAD', 'ANG', 'FEA', 'HAP', 'SAD', 'ANG', 'FEA', 'HAP', 'FEA', 'NEU', 'HAP', 'HAP', 'NEU', 'NEU', 'FEA', 'ANG', 'SAD', 'FEA', 'FEA', 'ANG', 'HAP', 'DIS', 'DIS', 'SAD', 'ANG', 'ANG', 'HAP', 'DIS', 'HAP', 'HAP', 'SAD', 'SAD', 'ANG', 'SAD', 'FEA', 'HAP', 'SAD', 'FEA', 'DIS', 'SAD', 'NEU', 'FEA', 'HAP', 'NEU', 'NEU', 'DIS', 'ANG', 'SAD', 'FEA', 'SAD', 'ANG', 'NEU', 'FEA', 'DIS', 'SAD', 'NEU', 'FEA', 'ANG', 'SAD', 'NEU', 'FEA', 'ANG', 'FEA', 'FEA', 'FEA', 'HAP', 'HAP', 'FEA', 'SAD', 'DIS', 'DIS', 'DIS', 'FEA', 'ANG', 'DIS', 'HAP', 'NEU', 'DIS', 'SAD', 'NEU', 'DIS', 'NEU', 'DIS', 'DIS', 'ANG', 'DIS', 'SAD', 'DIS', 'DIS', 'ANG', 'SAD', 'ANG', 'NEU', 'ANG', 'NEU', 'NEU', 'DIS', 'NEU', 'HAP', 'NEU', 'SAD', 'ANG', 'FEA', 'HAP', 'NEU', 'ANG', 'SAD', 'HAP', 'HAP', 'ANG', 'ANG', 'ANG', 'HAP', 'FEA', 'FEA', 'FEA', 'DIS', 'NEU', 'DIS', 'DIS', 'ANG', 'DIS', 'SAD', 'HAP', 'ANG', 'SAD', 'HAP', 'HAP', 'DIS', 'SAD', 'NEU', 'HAP', 'ANG', 'NEU', 'DIS', 'FEA', 'SAD', 'SAD', 'NEU', 'SAD', 'HAP', 'DIS', 'FEA', 'SAD', 'HAP', 'DIS', 'SAD', 'ANG', 'SAD', 'HAP', 'FEA', 'HAP', 'NEU', 'ANG', 'HAP', 'SAD', 'ANG', 'FEA', 'FEA', 'NEU', 'HAP', 'NEU', 'HAP', 'DIS', 'SAD', 'NEU', 'FEA', 'ANG', 'NEU', 'ANG', 'ANG', 'FEA', 'DIS', 'DIS', 'FEA', 'FEA', 'NEU', 'NEU', 'ANG', 'DIS', 'FEA', 'ANG', 'ANG', 'FEA', 'HAP', 'FEA', 'HAP', 'DIS', 'SAD', 'ANG', 'SAD', 'HAP', 'FEA', 'ANG', 'ANG', 'DIS', 'SAD', 'NEU', 'HAP', 'NEU', 'SAD', 'FEA', 'FEA', 'DIS', 'SAD', 'DIS', 'FEA', 'NEU', 'DIS', 'ANG', 'HAP', 'DIS', 'ANG', 'FEA', 'SAD', 'HAP', 'DIS', 'HAP', 'FEA', 'DIS', 'HAP', 'SAD', 'DIS', 'NEU', 'FEA', 'SAD', 'NEU', 'FEA', 'DIS', 'ANG', 'HAP', 'SAD', 'FEA', 'SAD', 'NEU', 'FEA', 'DIS', 'HAP', 'NEU', 'SAD', 'DIS', 'FEA', 'FEA', 'ANG', 'HAP', 'DIS', 'HAP', 'NEU', 'HAP', 'NEU', 'SAD', 'NEU', 'SAD', 'SAD', 'NEU', 'NEU', 'NEU', 'FEA', 'ANG', 'HAP', 'ANG', 'DIS', 'SAD', 'ANG', 'ANG', 'HAP', 'DIS', 'SAD', 'DIS', 'HAP', 'HAP', 'HAP', 'ANG', 'ANG', 'ANG', 'ANG', 'DIS', 'SAD', 'FEA', 'ANG', 'HAP', 'HAP', 'HAP', 'FEA', 'ANG', 'FEA', 'FEA', 'SAD', 'SAD', 'HAP', 'HAP', 'DIS', 'SAD', 'SAD', 'FEA', 'DIS', 'NEU', 'ANG', 'SAD', 'SAD', 'DIS', 'FEA', 'DIS', 'NEU', 'DIS', 'HAP', 'NEU', 'SAD', 'HAP', 'DIS', 'SAD', 'NEU', 'FEA', 'NEU', 'FEA', 'FEA', 'NEU', 'DIS', 'HAP', 'HAP', 'FEA', 'FEA', 'NEU', 'ANG', 'HAP', 'ANG', 'NEU', 'DIS', 'ANG', 'HAP', 'ANG', 'DIS', 'FEA', 'ANG', 'DIS', 'ANG', 'DIS', 'ANG', 'SAD', 'SAD', 'SAD', 'SAD', 'SAD', 'ANG', 'ANG', 'DIS', 'SAD', 'ANG', 'NEU', 'SAD', 'ANG', 'DIS', 'SAD', 'DIS', 'SAD', 'SAD', 'FEA', 'NEU', 'SAD', 'DIS', 'ANG', 'NEU', 'FEA', 'NEU', 'FEA', 'ANG', 'HAP', 'SAD', 'FEA', 'NEU', 'NEU', 'DIS', 'HAP', 'FEA', 'FEA', 'HAP', 'DIS', 'SAD', 'FEA', 'HAP', 'DIS', 'DIS', 'HAP', 'NEU', 'SAD', 'DIS', 'SAD', 'HAP', 'ANG', 'SAD', 'DIS', 'DIS', 'NEU', 'DIS', 'FEA', 'SAD', 'DIS', 'DIS', 'ANG', 'ANG', 'FEA', 'ANG', 'ANG', 'DIS', 'DIS', 'HAP', 'SAD', 'ANG', 'SAD', 'HAP', 'FEA', 'DIS', 'HAP', 'NEU', 'ANG', 'HAP', 'FEA', 'NEU', 'NEU', 'HAP', 'ANG', 'HAP', 'DIS', 'FEA', 'DIS', 'FEA', 'SAD', 'ANG', 'FEA', 'HAP', 'SAD', 'HAP', 'ANG', 'FEA', 'SAD', 'SAD', 'SAD', 'HAP', 'ANG', 'HAP', 'ANG', 'FEA', 'NEU', 'HAP', 'DIS', 'HAP', 'ANG', 'HAP', 'FEA', 'FEA', 'ANG', 'DIS', 'SAD', 'ANG', 'HAP', 'ANG', 'HAP', 'ANG', 'FEA', 'FEA', 'ANG', 'HAP', 'HAP', 'SAD', 'ANG', 'NEU', 'NEU', 'HAP', 'NEU', 'FEA', 'HAP', 'DIS', 'DIS', 'FEA', 'HAP', 'FEA', 'NEU', 'NEU', 'ANG', 'NEU', 'FEA', 'SAD', 'NEU', 'NEU', 'FEA', 'DIS', 'SAD', 'NEU', 'FEA', 'SAD', 'SAD', 'FEA', 'DIS', 'HAP', 'NEU', 'ANG', 'HAP', 'NEU', 'NEU', 'FEA', 'DIS', 'SAD', 'DIS', 'NEU', 'ANG', 'HAP', 'HAP', 'DIS', 'SAD', 'DIS', 'HAP', 'SAD', 'ANG', 'DIS', 'SAD', 'ANG', 'NEU', 'ANG', 'DIS', 'NEU', 'DIS', 'FEA', 'NEU', 'DIS', 'DIS', 'SAD', 'NEU', 'SAD', 'NEU', 'NEU', 'HAP', 'HAP', 'FEA', 'HAP', 'ANG', 'NEU', 'FEA', 'FEA', 'DIS', 'SAD', 'DIS', 'ANG', 'FEA', 'HAP', 'FEA', 'DIS', 'ANG', 'SAD', 'ANG', 'FEA', 'NEU', 'FEA', 'HAP', 'ANG', 'NEU', 'HAP', 'SAD', 'FEA', 'FEA', 'NEU', 'ANG', 'SAD', 'DIS', 'HAP', 'HAP', 'DIS', 'FEA', 'FEA', 'ANG', 'SAD', 'FEA', 'NEU', 'NEU', 'FEA', 'DIS', 'FEA', 'ANG', 'FEA', 'SAD', 'NEU', 'HAP', 'NEU', 'DIS', 'DIS', 'ANG', 'HAP', 'NEU', 'SAD', 'HAP', 'SAD', 'HAP', 'ANG', 'ANG', 'HAP', 'SAD', 'DIS', 'FEA', 'ANG', 'HAP', 'FEA', 'FEA', 'SAD', 'DIS', 'SAD', 'ANG', 'DIS', 'ANG', 'DIS', 'DIS', 'HAP', 'FEA', 'FEA', 'DIS', 'SAD', 'NEU', 'ANG', 'ANG', 'HAP', 'HAP', 'FEA', 'DIS', 'NEU', 'HAP', 'ANG', 'NEU', 'FEA', 'SAD', 'SAD', 'NEU', 'SAD', 'HAP', 'DIS', 'NEU', 'NEU', 'DIS', 'HAP', 'ANG', 'SAD', 'SAD', 'FEA', 'DIS', 'HAP', 'DIS', 'FEA', 'FEA', 'DIS', 'ANG', 'DIS', 'SAD', 'HAP', 'SAD', 'NEU', 'HAP', 'HAP', 'NEU', 'DIS', 'DIS', 'SAD', 'ANG', 'FEA', 'NEU', 'ANG', 'ANG', 'HAP', 'NEU', 'HAP', 'DIS', 'SAD', 'SAD', 'HAP', 'HAP', 'HAP', 'FEA', 'ANG', 'SAD', 'HAP', 'SAD', 'HAP', 'FEA', 'ANG', 'SAD', 'DIS', 'SAD', 'DIS', 'FEA', 'SAD', 'ANG', 'ANG', 'SAD', 'NEU', 'ANG', 'NEU', 'NEU', 'NEU', 'DIS', 'FEA', 'ANG', 'SAD', 'SAD', 'FEA', 'FEA', 'ANG', 'HAP', 'ANG', 'HAP', 'ANG', 'DIS', 'ANG', 'HAP', 'DIS', 'FEA', 'HAP', 'DIS', 'FEA', 'DIS', 'SAD', 'HAP', 'NEU', 'NEU', 'ANG', 'HAP', 'NEU', 'DIS', 'HAP', 'DIS', 'FEA', 'FEA', 'FEA', 'DIS', 'DIS', 'FEA', 'DIS', 'FEA', 'HAP', 'DIS', 'DIS', 'ANG', 'SAD', 'HAP', 'ANG', 'ANG', 'ANG', 'ANG', 'NEU', 'DIS', 'DIS', 'HAP', 'FEA', 'ANG', 'SAD', 'NEU', 'SAD', 'NEU', 'FEA', 'NEU', 'DIS', 'FEA', 'HAP', 'SAD', 'HAP', 'NEU', 'NEU', 'SAD', 'NEU', 'NEU', 'HAP', 'NEU', 'FEA', 'HAP', 'SAD', 'ANG', 'ANG', 'FEA', 'FEA', 'ANG', 'SAD', 'DIS', 'FEA', 'SAD', 'FEA', 'ANG', 'DIS', 'SAD', 'FEA', 'ANG', 'DIS', 'DIS', 'HAP', 'ANG', 'ANG', 'FEA', 'HAP', 'DIS', 'DIS', 'NEU', 'ANG', 'SAD', 'HAP', 'ANG', 'NEU', 'FEA', 'DIS', 'ANG', 'DIS', 'ANG', 'DIS', 'DIS', 'SAD', 'HAP', 'SAD', 'FEA', 'FEA', 'HAP', 'ANG', 'NEU', 'ANG', 'NEU', 'HAP', 'SAD', 'ANG', 'SAD', 'HAP', 'FEA', 'DIS', 'NEU', 'DIS', 'FEA', 'ANG', 'FEA', 'SAD', 'HAP', 'NEU', 'FEA', 'DIS', 'NEU', 'SAD', 'SAD', 'DIS', 'SAD', 'ANG', 'FEA', 'DIS', 'FEA', 'ANG', 'DIS', 'HAP', 'HAP', 'FEA', 'ANG', 'HAP', 'NEU', 'DIS', 'HAP', 'FEA', 'ANG', 'NEU', 'SAD', 'DIS', 'FEA', 'ANG', 'NEU', 'SAD', 'ANG', 'NEU', 'NEU', 'ANG', 'ANG', 'FEA', 'HAP', 'DIS', 'HAP', 'HAP', 'SAD', 'FEA', 'DIS', 'NEU', 'HAP', 'NEU', 'FEA', 'SAD', 'DIS', 'HAP', 'SAD', 'DIS', 'HAP', 'FEA', 'SAD', 'DIS', 'NEU', 'HAP', 'FEA', 'SAD', 'FEA', 'ANG', 'HAP', 'ANG', 'DIS', 'NEU', 'ANG', 'ANG', 'SAD', 'HAP', 'SAD', 'DIS', 'FEA', 'NEU', 'HAP', 'DIS', 'DIS', 'DIS', 'ANG', 'DIS', 'DIS', 'NEU', 'FEA', 'ANG', 'NEU', 'HAP', 'SAD', 'SAD', 'HAP', 'SAD', 'DIS', 'HAP', 'NEU', 'FEA', 'NEU', 'DIS', 'ANG', 'SAD', 'ANG', 'HAP', 'NEU', 'DIS', 'FEA', 'DIS', 'ANG', 'FEA', 'ANG', 'NEU', 'SAD', 'FEA', 'FEA', 'FEA', 'DIS', 'HAP', 'HAP', 'HAP', 'ANG', 'FEA', 'DIS', 'ANG', 'ANG', 'FEA', 'ANG', 'NEU', 'FEA', 'SAD', 'DIS', 'DIS', 'SAD', 'FEA', 'NEU', 'ANG', 'SAD', 'DIS', 'NEU', 'SAD', 'FEA', 'SAD', 'FEA', 'ANG', 'ANG', 'HAP', 'HAP', 'SAD', 'FEA', 'HAP', 'HAP', 'ANG', 'NEU', 'SAD', 'FEA', 'SAD', 'HAP', 'HAP', 'ANG', 'FEA', 'DIS', 'DIS', 'SAD', 'ANG', 'ANG', 'HAP', 'SAD', 'DIS', 'HAP', 'NEU', 'SAD', 'NEU', 'SAD', 'DIS', 'NEU', 'SAD', 'DIS', 'FEA', 'SAD', 'HAP', 'FEA', 'HAP', 'FEA', 'ANG', 'FEA', 'NEU', 'FEA', 'SAD', 'ANG', 'HAP', 'NEU', 'DIS', 'FEA', 'DIS', 'NEU', 'HAP', 'NEU', 'FEA', 'SAD', 'HAP', 'HAP', 'SAD', 'HAP', 'FEA', 'FEA', 'DIS', 'DIS', 'DIS', 'DIS', 'HAP', 'HAP', 'NEU', 'SAD', 'ANG', 'NEU', 'DIS', 'ANG', 'SAD', 'FEA', 'NEU', 'DIS', 'DIS', 'FEA', 'HAP', 'SAD', 'HAP', 'ANG', 'NEU', 'ANG', 'HAP', 'NEU', 'HAP', 'SAD', 'FEA', 'HAP', 'SAD', 'DIS', 'NEU', 'SAD', 'DIS', 'SAD', 'DIS', 'DIS', 'ANG', 'ANG', 'HAP', 'SAD', 'HAP', 'SAD', 'ANG', 'ANG', 'ANG', 'HAP', 'NEU', 'ANG', 'SAD', 'SAD', 'NEU', 'NEU', 'SAD', 'FEA', 'SAD', 'FEA', 'HAP', 'NEU', 'DIS', 'ANG', 'FEA', 'FEA', 'DIS', 'ANG', 'FEA', 'DIS', 'FEA', 'SAD', 'ANG', 'ANG', 'HAP', 'NEU', 'NEU', 'ANG', 'ANG', 'HAP', 'DIS', 'HAP', 'ANG', 'DIS', 'DIS', 'ANG', 'NEU', 'DIS', 'FEA', 'ANG', 'HAP', 'FEA', 'ANG', 'NEU', 'NEU', 'DIS', 'HAP', 'ANG', 'SAD', 'SAD', 'DIS', 'HAP', 'SAD', 'SAD', 'HAP', 'FEA', 'FEA', 'FEA', 'SAD', 'NEU', 'FEA', 'ANG', 'FEA', 'SAD', 'HAP', 'FEA', 'SAD', 'HAP', 'ANG', 'NEU', 'ANG', 'DIS', 'FEA', 'ANG', 'FEA', 'SAD', 'FEA', 'SAD', 'SAD', 'DIS', 'HAP', 'FEA', 'FEA', 'ANG', 'FEA', 'HAP', 'DIS', 'HAP', 'ANG', 'HAP', 'NEU', 'HAP', 'DIS', 'NEU', 'SAD', 'FEA', 'NEU', 'HAP', 'NEU', 'HAP', 'ANG', 'NEU', 'FEA', 'NEU', 'DIS', 'NEU', 'DIS', 'DIS', 'ANG', 'DIS', 'FEA', 'DIS', 'SAD', 'SAD', 'SAD', 'SAD', 'NEU', 'HAP', 'DIS', 'HAP', 'NEU', 'NEU', 'FEA', 'HAP', 'NEU', 'ANG', 'DIS', 'ANG', 'SAD', 'HAP', 'DIS', 'SAD', 'DIS', 'NEU', 'HAP', 'ANG', 'FEA', 'SAD', 'FEA', 'DIS', 'SAD', 'NEU', 'HAP', 'SAD', 'FEA', 'NEU', 'HAP', 'FEA', 'ANG', 'HAP', 'DIS', 'ANG', 'HAP', 'HAP', 'FEA', 'HAP', 'DIS']\n",
      "(7442, 6)\n"
     ]
    },
    {
     "data": {
      "text/plain": [
       "array(['ANG', 'DIS', 'FEA', 'HAP', 'NEU', 'SAD'], dtype='<U3')"
      ]
     },
     "execution_count": 5,
     "metadata": {},
     "output_type": "execute_result"
    }
   ],
   "source": [
    "labels = []\n",
    "audio_waves = []\n",
    "for file_name in os.listdir(dir_path):\n",
    "  labels.append(file_name[9:12])\n",
    "  audio_waves.append(librosa.load(os.path.join(dir_path, file_name)))\n",
    "print(labels)\n",
    "lb = LabelBinarizer()\n",
    "encoded_labels = lb.fit_transform(labels)\n",
    "print(encoded_labels.shape)\n",
    "lb.classes_"
   ]
  },
  {
   "cell_type": "code",
   "execution_count": 6,
   "metadata": {
    "id": "OvZzXogOWQ7M"
   },
   "outputs": [],
   "source": [
    "# def get_spectogram_circular_padded(mel_spec, max_frames):\n",
    "#   n_frames = mel_spec[1]\n",
    "#   n_pad_left = (max_frames - n_frames) // 2\n",
    "#   n_pad_right = max_frames - n_frames - n_pad_left\n",
    "#   left_pad = mel_spec[:, -n_pad_left:]\n",
    "#   right_pad = mel_spec[:, :n_pad_right]\n",
    "#   return np.hstack((left_pad, mel_spec, right_pad))\n",
    "\n",
    "def get_spectogram_circulary_padded(mel_spec, max_frames):\n",
    "  n_frames = mel_spec.shape[1]\n",
    "  if n_frames < max_frames:\n",
    "    n_pad = max_frames - n_frames\n",
    "    n = n_pad // n_frames\n",
    "    mod = n_pad % n_frames\n",
    "    pad = mel_spec[:, :mod]\n",
    "    result = np.hstack((mel_spec, pad))\n",
    "    for i in range(n):\n",
    "      result = np.hstack((result, mel_spec))\n",
    "    return result\n",
    "  else:\n",
    "    return mel_spec[:, :max_frames]\n",
    "\n",
    "# get_spectogram_circulary_padded(librosa.feature.melspectrogram(y=audio_waves[20][0]), max_frames)"
   ]
  },
  {
   "cell_type": "code",
   "execution_count": 7,
   "metadata": {
    "id": "iNIaAr-uYC-N"
   },
   "outputs": [],
   "source": [
    "max_frames = 200\n",
    "data2 = np.empty((len(labels), 128, max_frames))\n",
    "for i, audio in enumerate(audio_waves):\n",
    "  signal, sr = audio\n",
    "  mel_spec = librosa.feature.melspectrogram(y=signal)\n",
    "  mel_spec = get_spectogram_circulary_padded(mel_spec, max_frames)\n",
    "  # delta1 = librosa.feature.delta(mel_spec, delta=1)delta1\n",
    "  data2[i] = np.array((mel_spec ))"
   ]
  },
  {
   "cell_type": "code",
   "execution_count": 8,
   "metadata": {
    "id": "v4Zi8dClwDB0"
   },
   "outputs": [],
   "source": [
    "# del delta1\n",
    "del mel_spec\n",
    "del audio_waves"
   ]
  },
  {
   "cell_type": "code",
   "execution_count": 9,
   "metadata": {
    "id": "aHNt6nK1hvZ1"
   },
   "outputs": [],
   "source": [
    "np.expand_dims(data2, axis=-1)\n",
    "train_data2, test_data2, train_labels2, test_labels2 = train_test_split(data2, encoded_labels, test_size=0.3, stratify=encoded_labels, random_state=42)\n",
    "train_data2, valid_data2, train_labels2, valid_labels2 = train_test_split(train_data2, train_labels2, test_size=0.05, stratify=train_labels2, random_state=42)"
   ]
  },
  {
   "cell_type": "code",
   "execution_count": 10,
   "metadata": {
    "id": "b0Me11NbwEs0"
   },
   "outputs": [],
   "source": [
    "del data2"
   ]
  },
  {
   "cell_type": "code",
   "execution_count": 11,
   "metadata": {
    "colab": {
     "base_uri": "https://localhost:8080/"
    },
    "id": "ntrAFa5tRPzM",
    "outputId": "293744d3-aced-4125-98e4-340d116da90b"
   },
   "outputs": [
    {
     "name": "stdout",
     "output_type": "stream",
     "text": [
      "Model: \"sequential\"\n",
      "_________________________________________________________________\n",
      " Layer (type)                Output Shape              Param #   \n",
      "=================================================================\n",
      " conv2d (Conv2D)             (None, 126, 198, 50)      500       \n",
      "                                                                 \n",
      " max_pooling2d (MaxPooling2D  (None, 63, 99, 50)       0         \n",
      " )                                                               \n",
      "                                                                 \n",
      " batch_normalization (BatchN  (None, 63, 99, 50)       200       \n",
      " ormalization)                                                   \n",
      "                                                                 \n",
      " conv2d_1 (Conv2D)           (None, 59, 95, 70)        87570     \n",
      "                                                                 \n",
      " max_pooling2d_1 (MaxPooling  (None, 29, 47, 70)       0         \n",
      " 2D)                                                             \n",
      "                                                                 \n",
      " conv2d_2 (Conv2D)           (None, 23, 41, 90)        308790    \n",
      "                                                                 \n",
      " batch_normalization_1 (Batc  (None, 23, 41, 90)       360       \n",
      " hNormalization)                                                 \n",
      "                                                                 \n",
      " conv2d_3 (Conv2D)           (None, 15, 33, 200)       1458200   \n",
      "                                                                 \n",
      " batch_normalization_2 (Batc  (None, 15, 33, 200)      800       \n",
      " hNormalization)                                                 \n",
      "                                                                 \n",
      " max_pooling2d_2 (MaxPooling  (None, 7, 16, 200)       0         \n",
      " 2D)                                                             \n",
      "                                                                 \n",
      " conv2d_4 (Conv2D)           (None, 5, 4, 350)         2730350   \n",
      "                                                                 \n",
      " conv2d_5 (Conv2D)           (None, 3, 2, 500)         1575500   \n",
      "                                                                 \n",
      " dropout (Dropout)           (None, 3, 2, 500)         0         \n",
      "                                                                 \n",
      " flatten (Flatten)           (None, 3000)              0         \n",
      "                                                                 \n",
      " dense (Dense)               (None, 300)               900300    \n",
      "                                                                 \n",
      " dense_1 (Dense)             (None, 120)               36120     \n",
      "                                                                 \n",
      " dense_2 (Dense)             (None, 84)                10164     \n",
      "                                                                 \n",
      " dense_3 (Dense)             (None, 6)                 510       \n",
      "                                                                 \n",
      "=================================================================\n",
      "Total params: 7,109,364\n",
      "Trainable params: 7,108,684\n",
      "Non-trainable params: 680\n",
      "_________________________________________________________________\n"
     ]
    }
   ],
   "source": [
    "cnn1 =  keras.Sequential([\n",
    "      keras.layers.Conv2D(50, kernel_size=(3, 3), activation='relu',input_shape=(128,200,1)),\n",
    "      keras.layers.MaxPooling2D(pool_size=(2, 2)),\n",
    "      keras.layers.BatchNormalization(),\n",
    "      keras.layers.Conv2D(70, kernel_size=(5, 5), activation='relu'),\n",
    "      keras.layers.MaxPooling2D(pool_size=(2, 2)),\n",
    "\n",
    "      keras.layers.Conv2D(90, kernel_size=(7, 7), activation='relu'),\n",
    "            keras.layers.BatchNormalization(),\n",
    "\n",
    "      keras.layers.Conv2D(200, kernel_size=(9, 9), activation='sigmoid'),\n",
    "            keras.layers.BatchNormalization(),\n",
    "\n",
    "      keras.layers.MaxPooling2D(pool_size=(2, 2)),\n",
    "      keras.layers.Conv2D(350, kernel_size=(3, 13), activation='sigmoid',kernel_regularizer=regularizers.l2(0.01)),\n",
    "      keras.layers.Conv2D(500, kernel_size=(3, 3), activation='sigmoid'),\n",
    "keras.layers.Dropout(0.2),\n",
    "\n",
    "      keras.layers.Flatten(),\n",
    "      keras.layers.Dense(300, activation='relu', kernel_regularizer=regularizers.l1(0.01)),\n",
    "\n",
    "      keras.layers.Dense(120, activation='relu', kernel_regularizer=regularizers.l1(0.01)),\n",
    "      keras.layers.Dense(84, activation='relu'),\n",
    "      keras.layers.Dense(6, activation='softmax')\n",
    "])\n",
    "# # Compile the model\n",
    "cnn1.compile(loss='categorical_crossentropy', optimizer='sgd', metrics=['accuracy'])\n",
    "cnn1.summary()"
   ]
  },
  {
   "cell_type": "code",
   "execution_count": 15,
   "metadata": {
    "colab": {
     "base_uri": "https://localhost:8080/"
    },
    "id": "LGbadvCvv7Ej",
    "outputId": "d7b2c52e-7c7d-4877-a5f1-cb5ffa351139"
   },
   "outputs": [
    {
     "name": "stdout",
     "output_type": "stream",
     "text": [
      "Model: \"sequential_12\"\n",
      "_________________________________________________________________\n",
      " Layer (type)                Output Shape              Param #   \n",
      "=================================================================\n",
      " conv2d_55 (Conv2D)          (None, 126, 198, 15)      150       \n",
      "                                                                 \n",
      " max_pooling2d_41 (MaxPoolin  (None, 63, 99, 15)       0         \n",
      " g2D)                                                            \n",
      "                                                                 \n",
      " conv2d_56 (Conv2D)          (None, 59, 95, 30)        11280     \n",
      "                                                                 \n",
      " max_pooling2d_42 (MaxPoolin  (None, 29, 47, 30)       0         \n",
      " g2D)                                                            \n",
      "                                                                 \n",
      " conv2d_57 (Conv2D)          (None, 23, 41, 50)        73550     \n",
      "                                                                 \n",
      " conv2d_58 (Conv2D)          (None, 15, 33, 300)       1215300   \n",
      "                                                                 \n",
      " max_pooling2d_43 (MaxPoolin  (None, 7, 16, 300)       0         \n",
      " g2D)                                                            \n",
      "                                                                 \n",
      " max_pooling2d_44 (MaxPoolin  (None, 3, 8, 300)        0         \n",
      " g2D)                                                            \n",
      "                                                                 \n",
      " flatten_12 (Flatten)        (None, 7200)              0         \n",
      "                                                                 \n",
      " dense_36 (Dense)            (None, 120)               864120    \n",
      "                                                                 \n",
      " dense_37 (Dense)            (None, 84)                10164     \n",
      "                                                                 \n",
      " dense_38 (Dense)            (None, 6)                 510       \n",
      "                                                                 \n",
      "=================================================================\n",
      "Total params: 2,175,074\n",
      "Trainable params: 2,175,074\n",
      "Non-trainable params: 0\n",
      "_________________________________________________________________\n",
      "70/70 [==============================] - 1s 12ms/step - loss: 1.3175 - accuracy: 0.4819\n",
      "Test accuracy: 0.48186296224594116\n"
     ]
    }
   ],
   "source": [
    "tests = []\n",
    "# Train the model\n",
    "cnn1 = load_model('/content/drive/MyDrive/models/models2.h5')\n",
    "# history = cnn1.fit(train_data2, train_labels2, epochs=450, batch_size=64, validation_data=(valid_data2, valid_labels2))\n",
    "cnn1.summary()\n",
    "# Print the training accuracy for each epoch\n",
    "# for epoch, acc in enumerate(history.history['accuracy']):\n",
    "#     print(\"Epoch {}: training accuracy = {}\".format(epoch, acc))\n",
    "test_loss, test_acc = cnn1.evaluate(test_data2, test_labels2)\n",
    "tests.append(test_acc)\n",
    "print('Test accuracy:', test_acc)"
   ]
  },
  {
   "cell_type": "code",
   "execution_count": null,
   "metadata": {
    "id": "lWDU8iTyYzfd"
   },
   "outputs": [],
   "source": [
    "cnn1.save('models4.h5')"
   ]
  },
  {
   "cell_type": "code",
   "execution_count": null,
   "metadata": {
    "id": "zXFna4J8Q6_0"
   },
   "outputs": [],
   "source": [
    "del cnn1"
   ]
  },
  {
   "cell_type": "code",
   "execution_count": null,
   "metadata": {
    "colab": {
     "base_uri": "https://localhost:8080/"
    },
    "id": "FlqmQkDiQ4J0",
    "outputId": "0b798b4d-117b-4bd3-8978-d12f1a77ce3f"
   },
   "outputs": [
    {
     "name": "stdout",
     "output_type": "stream",
     "text": [
      "Model: \"sequential_9\"\n",
      "_________________________________________________________________\n",
      " Layer (type)                Output Shape              Param #   \n",
      "=================================================================\n",
      " conv2d_31 (Conv2D)          (None, 116, 188, 8)       1360      \n",
      "                                                                 \n",
      " batch_normalization_25 (Bat  (None, 116, 188, 8)      32        \n",
      " chNormalization)                                                \n",
      "                                                                 \n",
      " dropout_10 (Dropout)        (None, 116, 188, 8)       0         \n",
      "                                                                 \n",
      " activation_27 (Activation)  (None, 116, 188, 8)       0         \n",
      "                                                                 \n",
      " max_pooling2d_13 (MaxPoolin  (None, 58, 188, 8)       0         \n",
      " g2D)                                                            \n",
      "                                                                 \n",
      " conv2d_32 (Conv2D)          (None, 56, 186, 8)        584       \n",
      "                                                                 \n",
      " batch_normalization_26 (Bat  (None, 56, 186, 8)       32        \n",
      " chNormalization)                                                \n",
      "                                                                 \n",
      " activation_28 (Activation)  (None, 56, 186, 8)        0         \n",
      "                                                                 \n",
      " max_pooling2d_14 (MaxPoolin  (None, 28, 186, 8)       0         \n",
      " g2D)                                                            \n",
      "                                                                 \n",
      " flatten_6 (Flatten)         (None, 41664)             0         \n",
      "                                                                 \n",
      " dense_14 (Dense)            (None, 64)                2666560   \n",
      "                                                                 \n",
      " batch_normalization_27 (Bat  (None, 64)               256       \n",
      " chNormalization)                                                \n",
      "                                                                 \n",
      " activation_29 (Activation)  (None, 64)                0         \n",
      "                                                                 \n",
      " dropout_11 (Dropout)        (None, 64)                0         \n",
      "                                                                 \n",
      " dense_15 (Dense)            (None, 6)                 390       \n",
      "                                                                 \n",
      "=================================================================\n",
      "Total params: 2,669,214\n",
      "Trainable params: 2,669,054\n",
      "Non-trainable params: 160\n",
      "_________________________________________________________________\n"
     ]
    }
   ],
   "source": [
    "\n",
    "\n",
    "model = keras.Sequential()\n",
    "model.add(keras.layers.Conv2D(8, (13, 13), input_shape=(128,200,1)))\n",
    "model.add(keras.layers.BatchNormalization(axis=-1))\n",
    "model.add(keras.layers.Dropout(0.2))\n",
    "model.add(keras.layers.Activation('relu'))\n",
    "# model.add(keras.layers.Conv2D(8, (13, 13), kernel_regularizer=regularizers.l1(0.01)))\n",
    "# model.add(keras.layers.BatchNormalization(axis=-1))\n",
    "# model.add(keras.layers.Activation('relu'))\n",
    "model.add(keras.layers.MaxPooling2D(pool_size=(2, 1)))\n",
    "model.add(keras.layers.Conv2D(8, (3, 3), kernel_regularizer=regularizers.l1(0.01)))\n",
    "model.add(keras.layers.BatchNormalization(axis=-1))\n",
    "model.add(keras.layers.Activation('relu'))\n",
    "# model.add(keras.layers.Conv2D(8, (1, 1), kernel_regularizer=regularizers.l1(0.01)))\n",
    "# model.add(keras.layers.BatchNormalization(axis=-1))\n",
    "# model.add(keras.layers.Dropout(0.2))\n",
    "\n",
    "# model.add(keras.layers.Activation('relu'))\n",
    "model.add(keras.layers.MaxPooling2D(pool_size=(2, 1)))\n",
    "model.add(keras.layers.Flatten())\n",
    "model.add(keras.layers.Dense(64))\n",
    "model.add(keras.layers.BatchNormalization())\n",
    "model.add(keras.layers.Activation('relu'))\n",
    "model.add(keras.layers.Dropout(0.2))\n",
    "model.add(keras.layers.Dense(6, activation = 'softmax'))\n",
    "model.compile(loss='categorical_crossentropy', optimizer='sgd', metrics=['accuracy'])\n",
    "\n",
    "model.summary()"
   ]
  },
  {
   "cell_type": "code",
   "execution_count": null,
   "metadata": {
    "colab": {
     "base_uri": "https://localhost:8080/",
     "height": 833
    },
    "id": "IbYfBMi7wBcM",
    "outputId": "4ba78ecb-ffd2-4c81-955e-e6e755fb2429"
   },
   "outputs": [
    {
     "name": "stdout",
     "output_type": "stream",
     "text": [
      "Epoch 1/30\n",
      "155/155 [==============================] - 5s 23ms/step - loss: 2.3004 - accuracy: 0.2641 - val_loss: 2.1764 - val_accuracy: 0.2835\n",
      "Epoch 2/30\n",
      "155/155 [==============================] - 3s 21ms/step - loss: 2.1070 - accuracy: 0.2971 - val_loss: 2.0944 - val_accuracy: 0.2567\n",
      "Epoch 3/30\n",
      "155/155 [==============================] - 3s 22ms/step - loss: 1.9619 - accuracy: 0.3215 - val_loss: 2.0164 - val_accuracy: 0.2644\n",
      "Epoch 4/30\n",
      "155/155 [==============================] - 3s 21ms/step - loss: 1.8195 - accuracy: 0.3745 - val_loss: 2.0389 - val_accuracy: 0.2222\n",
      "Epoch 5/30\n",
      "155/155 [==============================] - 3s 21ms/step - loss: 1.6716 - accuracy: 0.4177 - val_loss: 1.8564 - val_accuracy: 0.3487\n",
      "Epoch 6/30\n",
      "155/155 [==============================] - 3s 21ms/step - loss: 1.5711 - accuracy: 0.4479 - val_loss: 2.1780 - val_accuracy: 0.1648\n",
      "Epoch 7/30\n",
      "155/155 [==============================] - 3s 22ms/step - loss: 1.4798 - accuracy: 0.4808 - val_loss: 2.2128 - val_accuracy: 0.1686\n",
      "Epoch 8/30\n",
      "155/155 [==============================] - 3s 21ms/step - loss: 1.3908 - accuracy: 0.5071 - val_loss: 3.5735 - val_accuracy: 0.1686\n",
      "Epoch 9/30\n",
      "155/155 [==============================] - 3s 21ms/step - loss: 1.3305 - accuracy: 0.5178 - val_loss: 3.0186 - val_accuracy: 0.1686\n",
      "Epoch 10/30\n",
      "155/155 [==============================] - 3s 21ms/step - loss: 1.2603 - accuracy: 0.5479 - val_loss: 2.6871 - val_accuracy: 0.1686\n",
      "Epoch 11/30\n",
      "155/155 [==============================] - 4s 23ms/step - loss: 1.2210 - accuracy: 0.5631 - val_loss: 3.2853 - val_accuracy: 0.1686\n",
      "Epoch 12/30\n",
      " 61/155 [==========>...................] - ETA: 1s - loss: 1.1619 - accuracy: 0.5927"
     ]
    },
    {
     "ename": "KeyboardInterrupt",
     "evalue": "ignored",
     "output_type": "error",
     "traceback": [
      "\u001b[0;31m---------------------------------------------------------------------------\u001b[0m",
      "\u001b[0;31mKeyboardInterrupt\u001b[0m                         Traceback (most recent call last)",
      "\u001b[0;32m<ipython-input-32-f1a406747f59>\u001b[0m in \u001b[0;36m<cell line: 1>\u001b[0;34m()\u001b[0m\n\u001b[0;32m----> 1\u001b[0;31m \u001b[0mhistory\u001b[0m \u001b[0;34m=\u001b[0m \u001b[0mmodel\u001b[0m\u001b[0;34m.\u001b[0m\u001b[0mfit\u001b[0m\u001b[0;34m(\u001b[0m\u001b[0mtrain_data2\u001b[0m\u001b[0;34m,\u001b[0m \u001b[0mtrain_labels2\u001b[0m\u001b[0;34m,\u001b[0m \u001b[0mepochs\u001b[0m\u001b[0;34m=\u001b[0m\u001b[0;36m30\u001b[0m\u001b[0;34m,\u001b[0m \u001b[0mbatch_size\u001b[0m\u001b[0;34m=\u001b[0m\u001b[0;36m32\u001b[0m\u001b[0;34m,\u001b[0m \u001b[0mvalidation_data\u001b[0m\u001b[0;34m=\u001b[0m\u001b[0;34m(\u001b[0m\u001b[0mvalid_data2\u001b[0m\u001b[0;34m,\u001b[0m \u001b[0mvalid_labels2\u001b[0m\u001b[0;34m)\u001b[0m\u001b[0;34m)\u001b[0m\u001b[0;34m\u001b[0m\u001b[0;34m\u001b[0m\u001b[0m\n\u001b[0m\u001b[1;32m      2\u001b[0m \u001b[0;34m\u001b[0m\u001b[0m\n\u001b[1;32m      3\u001b[0m \u001b[0;31m# Print the training accuracy for each epoch\u001b[0m\u001b[0;34m\u001b[0m\u001b[0;34m\u001b[0m\u001b[0m\n\u001b[1;32m      4\u001b[0m \u001b[0;32mfor\u001b[0m \u001b[0mepoch\u001b[0m\u001b[0;34m,\u001b[0m \u001b[0macc\u001b[0m \u001b[0;32min\u001b[0m \u001b[0menumerate\u001b[0m\u001b[0;34m(\u001b[0m\u001b[0mhistory\u001b[0m\u001b[0;34m.\u001b[0m\u001b[0mhistory\u001b[0m\u001b[0;34m[\u001b[0m\u001b[0;34m'accuracy'\u001b[0m\u001b[0;34m]\u001b[0m\u001b[0;34m)\u001b[0m\u001b[0;34m:\u001b[0m\u001b[0;34m\u001b[0m\u001b[0;34m\u001b[0m\u001b[0m\n\u001b[1;32m      5\u001b[0m     \u001b[0mprint\u001b[0m\u001b[0;34m(\u001b[0m\u001b[0;34m\"Epoch {}: training accuracy = {}\"\u001b[0m\u001b[0;34m.\u001b[0m\u001b[0mformat\u001b[0m\u001b[0;34m(\u001b[0m\u001b[0mepoch\u001b[0m\u001b[0;34m,\u001b[0m \u001b[0macc\u001b[0m\u001b[0;34m)\u001b[0m\u001b[0;34m)\u001b[0m\u001b[0;34m\u001b[0m\u001b[0;34m\u001b[0m\u001b[0m\n",
      "\u001b[0;32m/usr/local/lib/python3.10/dist-packages/keras/utils/traceback_utils.py\u001b[0m in \u001b[0;36merror_handler\u001b[0;34m(*args, **kwargs)\u001b[0m\n\u001b[1;32m     63\u001b[0m         \u001b[0mfiltered_tb\u001b[0m \u001b[0;34m=\u001b[0m \u001b[0;32mNone\u001b[0m\u001b[0;34m\u001b[0m\u001b[0;34m\u001b[0m\u001b[0m\n\u001b[1;32m     64\u001b[0m         \u001b[0;32mtry\u001b[0m\u001b[0;34m:\u001b[0m\u001b[0;34m\u001b[0m\u001b[0;34m\u001b[0m\u001b[0m\n\u001b[0;32m---> 65\u001b[0;31m             \u001b[0;32mreturn\u001b[0m \u001b[0mfn\u001b[0m\u001b[0;34m(\u001b[0m\u001b[0;34m*\u001b[0m\u001b[0margs\u001b[0m\u001b[0;34m,\u001b[0m \u001b[0;34m**\u001b[0m\u001b[0mkwargs\u001b[0m\u001b[0;34m)\u001b[0m\u001b[0;34m\u001b[0m\u001b[0;34m\u001b[0m\u001b[0m\n\u001b[0m\u001b[1;32m     66\u001b[0m         \u001b[0;32mexcept\u001b[0m \u001b[0mException\u001b[0m \u001b[0;32mas\u001b[0m \u001b[0me\u001b[0m\u001b[0;34m:\u001b[0m\u001b[0;34m\u001b[0m\u001b[0;34m\u001b[0m\u001b[0m\n\u001b[1;32m     67\u001b[0m             \u001b[0mfiltered_tb\u001b[0m \u001b[0;34m=\u001b[0m \u001b[0m_process_traceback_frames\u001b[0m\u001b[0;34m(\u001b[0m\u001b[0me\u001b[0m\u001b[0;34m.\u001b[0m\u001b[0m__traceback__\u001b[0m\u001b[0;34m)\u001b[0m\u001b[0;34m\u001b[0m\u001b[0;34m\u001b[0m\u001b[0m\n",
      "\u001b[0;32m/usr/local/lib/python3.10/dist-packages/keras/engine/training.py\u001b[0m in \u001b[0;36mfit\u001b[0;34m(self, x, y, batch_size, epochs, verbose, callbacks, validation_split, validation_data, shuffle, class_weight, sample_weight, initial_epoch, steps_per_epoch, validation_steps, validation_batch_size, validation_freq, max_queue_size, workers, use_multiprocessing)\u001b[0m\n\u001b[1;32m   1683\u001b[0m                         ):\n\u001b[1;32m   1684\u001b[0m                             \u001b[0mcallbacks\u001b[0m\u001b[0;34m.\u001b[0m\u001b[0mon_train_batch_begin\u001b[0m\u001b[0;34m(\u001b[0m\u001b[0mstep\u001b[0m\u001b[0;34m)\u001b[0m\u001b[0;34m\u001b[0m\u001b[0;34m\u001b[0m\u001b[0m\n\u001b[0;32m-> 1685\u001b[0;31m                             \u001b[0mtmp_logs\u001b[0m \u001b[0;34m=\u001b[0m \u001b[0mself\u001b[0m\u001b[0;34m.\u001b[0m\u001b[0mtrain_function\u001b[0m\u001b[0;34m(\u001b[0m\u001b[0miterator\u001b[0m\u001b[0;34m)\u001b[0m\u001b[0;34m\u001b[0m\u001b[0;34m\u001b[0m\u001b[0m\n\u001b[0m\u001b[1;32m   1686\u001b[0m                             \u001b[0;32mif\u001b[0m \u001b[0mdata_handler\u001b[0m\u001b[0;34m.\u001b[0m\u001b[0mshould_sync\u001b[0m\u001b[0;34m:\u001b[0m\u001b[0;34m\u001b[0m\u001b[0;34m\u001b[0m\u001b[0m\n\u001b[1;32m   1687\u001b[0m                                 \u001b[0mcontext\u001b[0m\u001b[0;34m.\u001b[0m\u001b[0masync_wait\u001b[0m\u001b[0;34m(\u001b[0m\u001b[0;34m)\u001b[0m\u001b[0;34m\u001b[0m\u001b[0;34m\u001b[0m\u001b[0m\n",
      "\u001b[0;32m/usr/local/lib/python3.10/dist-packages/tensorflow/python/util/traceback_utils.py\u001b[0m in \u001b[0;36merror_handler\u001b[0;34m(*args, **kwargs)\u001b[0m\n\u001b[1;32m    148\u001b[0m     \u001b[0mfiltered_tb\u001b[0m \u001b[0;34m=\u001b[0m \u001b[0;32mNone\u001b[0m\u001b[0;34m\u001b[0m\u001b[0;34m\u001b[0m\u001b[0m\n\u001b[1;32m    149\u001b[0m     \u001b[0;32mtry\u001b[0m\u001b[0;34m:\u001b[0m\u001b[0;34m\u001b[0m\u001b[0;34m\u001b[0m\u001b[0m\n\u001b[0;32m--> 150\u001b[0;31m       \u001b[0;32mreturn\u001b[0m \u001b[0mfn\u001b[0m\u001b[0;34m(\u001b[0m\u001b[0;34m*\u001b[0m\u001b[0margs\u001b[0m\u001b[0;34m,\u001b[0m \u001b[0;34m**\u001b[0m\u001b[0mkwargs\u001b[0m\u001b[0;34m)\u001b[0m\u001b[0;34m\u001b[0m\u001b[0;34m\u001b[0m\u001b[0m\n\u001b[0m\u001b[1;32m    151\u001b[0m     \u001b[0;32mexcept\u001b[0m \u001b[0mException\u001b[0m \u001b[0;32mas\u001b[0m \u001b[0me\u001b[0m\u001b[0;34m:\u001b[0m\u001b[0;34m\u001b[0m\u001b[0;34m\u001b[0m\u001b[0m\n\u001b[1;32m    152\u001b[0m       \u001b[0mfiltered_tb\u001b[0m \u001b[0;34m=\u001b[0m \u001b[0m_process_traceback_frames\u001b[0m\u001b[0;34m(\u001b[0m\u001b[0me\u001b[0m\u001b[0;34m.\u001b[0m\u001b[0m__traceback__\u001b[0m\u001b[0;34m)\u001b[0m\u001b[0;34m\u001b[0m\u001b[0;34m\u001b[0m\u001b[0m\n",
      "\u001b[0;32m/usr/local/lib/python3.10/dist-packages/tensorflow/python/eager/polymorphic_function/polymorphic_function.py\u001b[0m in \u001b[0;36m__call__\u001b[0;34m(self, *args, **kwds)\u001b[0m\n\u001b[1;32m    892\u001b[0m \u001b[0;34m\u001b[0m\u001b[0m\n\u001b[1;32m    893\u001b[0m       \u001b[0;32mwith\u001b[0m \u001b[0mOptionalXlaContext\u001b[0m\u001b[0;34m(\u001b[0m\u001b[0mself\u001b[0m\u001b[0;34m.\u001b[0m\u001b[0m_jit_compile\u001b[0m\u001b[0;34m)\u001b[0m\u001b[0;34m:\u001b[0m\u001b[0;34m\u001b[0m\u001b[0;34m\u001b[0m\u001b[0m\n\u001b[0;32m--> 894\u001b[0;31m         \u001b[0mresult\u001b[0m \u001b[0;34m=\u001b[0m \u001b[0mself\u001b[0m\u001b[0;34m.\u001b[0m\u001b[0m_call\u001b[0m\u001b[0;34m(\u001b[0m\u001b[0;34m*\u001b[0m\u001b[0margs\u001b[0m\u001b[0;34m,\u001b[0m \u001b[0;34m**\u001b[0m\u001b[0mkwds\u001b[0m\u001b[0;34m)\u001b[0m\u001b[0;34m\u001b[0m\u001b[0;34m\u001b[0m\u001b[0m\n\u001b[0m\u001b[1;32m    895\u001b[0m \u001b[0;34m\u001b[0m\u001b[0m\n\u001b[1;32m    896\u001b[0m       \u001b[0mnew_tracing_count\u001b[0m \u001b[0;34m=\u001b[0m \u001b[0mself\u001b[0m\u001b[0;34m.\u001b[0m\u001b[0mexperimental_get_tracing_count\u001b[0m\u001b[0;34m(\u001b[0m\u001b[0;34m)\u001b[0m\u001b[0;34m\u001b[0m\u001b[0;34m\u001b[0m\u001b[0m\n",
      "\u001b[0;32m/usr/local/lib/python3.10/dist-packages/tensorflow/python/eager/polymorphic_function/polymorphic_function.py\u001b[0m in \u001b[0;36m_call\u001b[0;34m(self, *args, **kwds)\u001b[0m\n\u001b[1;32m    924\u001b[0m       \u001b[0;31m# In this case we have created variables on the first call, so we run the\u001b[0m\u001b[0;34m\u001b[0m\u001b[0;34m\u001b[0m\u001b[0m\n\u001b[1;32m    925\u001b[0m       \u001b[0;31m# defunned version which is guaranteed to never create variables.\u001b[0m\u001b[0;34m\u001b[0m\u001b[0;34m\u001b[0m\u001b[0m\n\u001b[0;32m--> 926\u001b[0;31m       \u001b[0;32mreturn\u001b[0m \u001b[0mself\u001b[0m\u001b[0;34m.\u001b[0m\u001b[0m_no_variable_creation_fn\u001b[0m\u001b[0;34m(\u001b[0m\u001b[0;34m*\u001b[0m\u001b[0margs\u001b[0m\u001b[0;34m,\u001b[0m \u001b[0;34m**\u001b[0m\u001b[0mkwds\u001b[0m\u001b[0;34m)\u001b[0m  \u001b[0;31m# pylint: disable=not-callable\u001b[0m\u001b[0;34m\u001b[0m\u001b[0;34m\u001b[0m\u001b[0m\n\u001b[0m\u001b[1;32m    927\u001b[0m     \u001b[0;32melif\u001b[0m \u001b[0mself\u001b[0m\u001b[0;34m.\u001b[0m\u001b[0m_variable_creation_fn\u001b[0m \u001b[0;32mis\u001b[0m \u001b[0;32mnot\u001b[0m \u001b[0;32mNone\u001b[0m\u001b[0;34m:\u001b[0m\u001b[0;34m\u001b[0m\u001b[0;34m\u001b[0m\u001b[0m\n\u001b[1;32m    928\u001b[0m       \u001b[0;31m# Release the lock early so that multiple threads can perform the call\u001b[0m\u001b[0;34m\u001b[0m\u001b[0;34m\u001b[0m\u001b[0m\n",
      "\u001b[0;32m/usr/local/lib/python3.10/dist-packages/tensorflow/python/eager/polymorphic_function/tracing_compiler.py\u001b[0m in \u001b[0;36m__call__\u001b[0;34m(self, *args, **kwargs)\u001b[0m\n\u001b[1;32m    141\u001b[0m       (concrete_function,\n\u001b[1;32m    142\u001b[0m        filtered_flat_args) = self._maybe_define_function(args, kwargs)\n\u001b[0;32m--> 143\u001b[0;31m     return concrete_function._call_flat(\n\u001b[0m\u001b[1;32m    144\u001b[0m         filtered_flat_args, captured_inputs=concrete_function.captured_inputs)  # pylint: disable=protected-access\n\u001b[1;32m    145\u001b[0m \u001b[0;34m\u001b[0m\u001b[0m\n",
      "\u001b[0;32m/usr/local/lib/python3.10/dist-packages/tensorflow/python/eager/polymorphic_function/monomorphic_function.py\u001b[0m in \u001b[0;36m_call_flat\u001b[0;34m(self, args, captured_inputs, cancellation_manager)\u001b[0m\n\u001b[1;32m   1755\u001b[0m         and executing_eagerly):\n\u001b[1;32m   1756\u001b[0m       \u001b[0;31m# No tape is watching; skip to running the function.\u001b[0m\u001b[0;34m\u001b[0m\u001b[0;34m\u001b[0m\u001b[0m\n\u001b[0;32m-> 1757\u001b[0;31m       return self._build_call_outputs(self._inference_function.call(\n\u001b[0m\u001b[1;32m   1758\u001b[0m           ctx, args, cancellation_manager=cancellation_manager))\n\u001b[1;32m   1759\u001b[0m     forward_backward = self._select_forward_and_backward_functions(\n",
      "\u001b[0;32m/usr/local/lib/python3.10/dist-packages/tensorflow/python/eager/polymorphic_function/monomorphic_function.py\u001b[0m in \u001b[0;36mcall\u001b[0;34m(self, ctx, args, cancellation_manager)\u001b[0m\n\u001b[1;32m    379\u001b[0m       \u001b[0;32mwith\u001b[0m \u001b[0m_InterpolateFunctionError\u001b[0m\u001b[0;34m(\u001b[0m\u001b[0mself\u001b[0m\u001b[0;34m)\u001b[0m\u001b[0;34m:\u001b[0m\u001b[0;34m\u001b[0m\u001b[0;34m\u001b[0m\u001b[0m\n\u001b[1;32m    380\u001b[0m         \u001b[0;32mif\u001b[0m \u001b[0mcancellation_manager\u001b[0m \u001b[0;32mis\u001b[0m \u001b[0;32mNone\u001b[0m\u001b[0;34m:\u001b[0m\u001b[0;34m\u001b[0m\u001b[0;34m\u001b[0m\u001b[0m\n\u001b[0;32m--> 381\u001b[0;31m           outputs = execute.execute(\n\u001b[0m\u001b[1;32m    382\u001b[0m               \u001b[0mstr\u001b[0m\u001b[0;34m(\u001b[0m\u001b[0mself\u001b[0m\u001b[0;34m.\u001b[0m\u001b[0msignature\u001b[0m\u001b[0;34m.\u001b[0m\u001b[0mname\u001b[0m\u001b[0;34m)\u001b[0m\u001b[0;34m,\u001b[0m\u001b[0;34m\u001b[0m\u001b[0;34m\u001b[0m\u001b[0m\n\u001b[1;32m    383\u001b[0m               \u001b[0mnum_outputs\u001b[0m\u001b[0;34m=\u001b[0m\u001b[0mself\u001b[0m\u001b[0;34m.\u001b[0m\u001b[0m_num_outputs\u001b[0m\u001b[0;34m,\u001b[0m\u001b[0;34m\u001b[0m\u001b[0;34m\u001b[0m\u001b[0m\n",
      "\u001b[0;32m/usr/local/lib/python3.10/dist-packages/tensorflow/python/eager/execute.py\u001b[0m in \u001b[0;36mquick_execute\u001b[0;34m(op_name, num_outputs, inputs, attrs, ctx, name)\u001b[0m\n\u001b[1;32m     50\u001b[0m   \u001b[0;32mtry\u001b[0m\u001b[0;34m:\u001b[0m\u001b[0;34m\u001b[0m\u001b[0;34m\u001b[0m\u001b[0m\n\u001b[1;32m     51\u001b[0m     \u001b[0mctx\u001b[0m\u001b[0;34m.\u001b[0m\u001b[0mensure_initialized\u001b[0m\u001b[0;34m(\u001b[0m\u001b[0;34m)\u001b[0m\u001b[0;34m\u001b[0m\u001b[0;34m\u001b[0m\u001b[0m\n\u001b[0;32m---> 52\u001b[0;31m     tensors = pywrap_tfe.TFE_Py_Execute(ctx._handle, device_name, op_name,\n\u001b[0m\u001b[1;32m     53\u001b[0m                                         inputs, attrs, num_outputs)\n\u001b[1;32m     54\u001b[0m   \u001b[0;32mexcept\u001b[0m \u001b[0mcore\u001b[0m\u001b[0;34m.\u001b[0m\u001b[0m_NotOkStatusException\u001b[0m \u001b[0;32mas\u001b[0m \u001b[0me\u001b[0m\u001b[0;34m:\u001b[0m\u001b[0;34m\u001b[0m\u001b[0;34m\u001b[0m\u001b[0m\n",
      "\u001b[0;31mKeyboardInterrupt\u001b[0m: "
     ]
    }
   ],
   "source": [
    "\n",
    "history = model.fit(train_data2, train_labels2, epochs=30, batch_size=32, validation_data=(valid_data2, valid_labels2))\n",
    "\n",
    "# Print the training accuracy for each epoch\n",
    "for epoch, acc in enumerate(history.history['accuracy']):\n",
    "    print(\"Epoch {}: training accuracy = {}\".format(epoch, acc))\n",
    "test_loss, test_acc = model.evaluate(test_data2, test_labels2)\n",
    "print('Test accuracy:', test_acc)"
   ]
  },
  {
   "cell_type": "code",
   "execution_count": 16,
   "metadata": {
    "id": "wt5ql1kYO-nR"
   },
   "outputs": [],
   "source": [
    "\n",
    "\n",
    "def plot(confusion_matrix, class_labels):\n",
    "  fig, ax = plt.subplots()\n",
    "  im = ax.imshow(cm)\n",
    "  # Add the colorbar\n",
    "  cbar = ax.figure.colorbar(im, ax=ax)\n",
    "\n",
    "  # Set the tick labels and axis labels\n",
    "  ax.set_xticks(np.arange(len(class_labels)))\n",
    "  ax.set_yticks(np.arange(len(class_labels)))\n",
    "  ax.set_xticklabels(class_labels)\n",
    "  ax.set_yticklabels(class_labels)\n",
    "\n",
    "  # Rotate the tick labels and set their alignment\n",
    "  plt.setp(ax.get_xticklabels(), rotation=45, ha=\"right\",\n",
    "          rotation_mode=\"anchor\")\n",
    "\n",
    "  # Loop over data dimensions and create text annotations\n",
    "  for i in range(len(class_labels)):\n",
    "      for j in range(len(class_labels)):\n",
    "          text = ax.text(j, i, confusion_matrix[i, j],\n",
    "                        ha=\"center\", va=\"center\", color=\"w\")\n",
    "\n",
    "  # Set the plot title\n",
    "  ax.set_title(\"Confusion Matrix\")\n",
    "\n",
    "  # Show the plot\n",
    "  plt.show()\n",
    "     \n"
   ]
  },
  {
   "cell_type": "code",
   "execution_count": 21,
   "metadata": {
    "colab": {
     "base_uri": "https://localhost:8080/",
     "height": 731
    },
    "id": "E3o2FrQlP8Jq",
    "outputId": "1187da76-9c93-485d-8ffc-c5aec8e488f1"
   },
   "outputs": [
    {
     "name": "stdout",
     "output_type": "stream",
     "text": [
      "70/70 [==============================] - 1s 9ms/step\n",
      "F measure:\n",
      "============\n",
      "0.4636976706080342\n",
      "\n",
      "CofusioN Matrix:\n",
      "=================\n"
     ]
    },
    {
     "data": {
      "image/png": "[encoded data removed]",
      "text/plain": [
       "<Figure size 640x480 with 2 Axes>"
      ]
     },
     "metadata": {},
     "output_type": "display_data"
    },
    {
     "name": "stdout",
     "output_type": "stream",
     "text": [
      "\n",
      "Most Confusing Classes:\n",
      "===============\n",
      "class: FEA and class: SAD with 113\n",
      "class: DIS and class: SAD with 108\n",
      "class: HAP and class: ANG with 78\n",
      "class: HAP and class: NEU with 72\n",
      "class: NEU and class: SAD with 63\n"
     ]
    }
   ],
   "source": [
    "# Compute predictions on the test set\n",
    "loaded_model = load_model('/content/drive/MyDrive/models/models2.h5')\n",
    "y_pred = loaded_model.predict(test_data2)\n",
    "y_pred_decrypted = np.argmax(y_pred, axis=1)\n",
    "test_labels_decrypted = np.argmax(test_labels2, axis=1)\n",
    "labels_decrypted = lb.classes_\n",
    "\n",
    "f1 = f1_score(test_labels_decrypted, y_pred_decrypted, average='weighted')\n",
    "print(\"F measure:\\n============\")\n",
    "print(f1)\n",
    "print()\n",
    "\n",
    "print(\"CofusioN Matrix:\\n=================\")\n",
    "N = 5\n",
    "cm = confusion_matrix(test_labels_decrypted, y_pred_decrypted)\n",
    "plot(cm, labels_decrypted)\n",
    "print(\"\\nMost Confusing Classes:\\n===============\")\n",
    "cm = np.array(cm)\n",
    "np.fill_diagonal(cm, 0)\n",
    "cm_f = cm.flatten()\n",
    "cm_f = np.flip(cm_f.argsort()[-N:])\n",
    "for n in cm_f:\n",
    "  print(f'class: {labels_decrypted[int(n / cm.shape[0])]} and class: {labels_decrypted[n % cm.shape[0]]} with {cm[int(n / cm.shape[0]), n % cm.shape[0]]}')"
   ]
  }
 ],
 "metadata": {
  "accelerator": "GPU",
  "colab": {
   "gpuType": "T4",
   "include_colab_link": true,
   "provenance": []
  },
  "gpuClass": "standard",
  "kernelspec": {
   "display_name": "Python 3 (ipykernel)",
   "language": "python",
   "name": "python3"
  },
  "language_info": {
   "codemirror_mode": {
    "name": "ipython",
    "version": 3
   },
   "file_extension": ".py",
   "mimetype": "text/x-python",
   "name": "python",
   "nbconvert_exporter": "python",
   "pygments_lexer": "ipython3",
   "version": "3.11.4"
  }
 },
 "nbformat": 4,
 "nbformat_minor": 1
}
